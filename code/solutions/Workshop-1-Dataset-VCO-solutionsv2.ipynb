{
 "cells": [
  {
   "cell_type": "code",
   "execution_count": 1,
   "id": "83d8af41-9813-4439-9558-b2176c0ff0fb",
   "metadata": {
    "tags": []
   },
   "outputs": [],
   "source": [
    "# general imports \n",
    "import allensdk\n",
    "import numpy as np\n",
    "import pandas as pd\n",
    "import matplotlib.pyplot as plt\n",
    "%matplotlib inline "
   ]
  },
  {
   "cell_type": "code",
   "execution_count": 5,
   "id": "3ef30742-c328-4e50-b962-dd89ee721d62",
   "metadata": {
    "tags": []
   },
   "outputs": [
    {
     "name": "stdout",
     "output_type": "stream",
     "text": [
      "data directory set to /data/\n"
     ]
    }
   ],
   "source": [
    "# set data path\n",
    "import sys\n",
    "import platform\n",
    "from os.path import join as pjoin\n",
    "\n",
    "platstring = platform.platform()\n",
    "system = platform.system()\n",
    "if system == \"Darwin\":\n",
    "    # macOS\n",
    "    data_dir = \"/Volumes/Brain2025/\"\n",
    "elif system == \"Windows\":\n",
    "    # Windows (replace with the drive letter of USB drive)\n",
    "    data_dir = \"E:/\"\n",
    "elif \"amzn\" in platstring:\n",
    "    # then on CodeOcean\n",
    "    data_dir = \"/data/\"\n",
    "else:\n",
    "    # then your own linux platform\n",
    "    # EDIT location where you mounted hard drive\n",
    "    data_dir = \"/media/$USERNAME/Brain2025/\"\n",
    "    \n",
    "print('data directory set to', data_dir)"
   ]
  },
  {
   "cell_type": "code",
   "execution_count": 6,
   "id": "428f0894-cbb9-42a3-9469-38fd8f425eba",
   "metadata": {
    "tags": []
   },
   "outputs": [],
   "source": [
    "from allensdk.core.brain_observatory_cache import BrainObservatoryCache\n",
    "manifest_file = '../../../data/allen-brain-observatory/visual-coding-2p/manifest.json'\n",
    "boc = BrainObservatoryCache(manifest_file=manifest_file)"
   ]
  },
  {
   "cell_type": "markdown",
   "id": "a8ebf1e6-f755-4c65-aee8-7c683dc3232a",
   "metadata": {
    "tags": []
   },
   "source": [
    "<div style=\"background: #DFF0D8; border-radius: 3px; padding: 10px;\">\n",
    "\n",
    "**Exercise:** What modality was used?\n",
    "</div>"
   ]
  },
  {
   "cell_type": "markdown",
   "id": "2c459fca-5a2f-4a8f-afe2-408969d5b0fd",
   "metadata": {},
   "source": [
    "infer from data book "
   ]
  },
  {
   "cell_type": "markdown",
   "id": "0f39b914-b186-425d-abc3-83fb1a2adaf2",
   "metadata": {},
   "source": [
    "<div style=\"background: #DFF0D8; border-radius: 3px; padding: 10px;\">\n",
    "\n",
    "**Exercise:** How many mice were used in this dataset?\n",
    "</div>"
   ]
  },
  {
   "cell_type": "code",
   "execution_count": 12,
   "id": "e82c3954-166e-4e1a-8df1-ac80bc3b4574",
   "metadata": {
    "tags": []
   },
   "outputs": [
    {
     "data": {
      "text/html": [
       "<div>\n",
       "<style scoped>\n",
       "    .dataframe tbody tr th:only-of-type {\n",
       "        vertical-align: middle;\n",
       "    }\n",
       "\n",
       "    .dataframe tbody tr th {\n",
       "        vertical-align: top;\n",
       "    }\n",
       "\n",
       "    .dataframe thead th {\n",
       "        text-align: right;\n",
       "    }\n",
       "</style>\n",
       "<table border=\"1\" class=\"dataframe\">\n",
       "  <thead>\n",
       "    <tr style=\"text-align: right;\">\n",
       "      <th></th>\n",
       "      <th>id</th>\n",
       "      <th>imaging_depth</th>\n",
       "      <th>targeted_structure</th>\n",
       "      <th>cre_line</th>\n",
       "      <th>reporter_line</th>\n",
       "      <th>acquisition_age_days</th>\n",
       "      <th>experiment_container_id</th>\n",
       "      <th>session_type</th>\n",
       "      <th>donor_name</th>\n",
       "      <th>specimen_name</th>\n",
       "      <th>fail_eye_tracking</th>\n",
       "    </tr>\n",
       "  </thead>\n",
       "  <tbody>\n",
       "    <tr>\n",
       "      <th>0</th>\n",
       "      <td>566752133</td>\n",
       "      <td>175</td>\n",
       "      <td>VISl</td>\n",
       "      <td>Emx1-IRES-Cre</td>\n",
       "      <td>Ai93(TITL-GCaMP6f)</td>\n",
       "      <td>116</td>\n",
       "      <td>564425775</td>\n",
       "      <td>three_session_C2</td>\n",
       "      <td>283147</td>\n",
       "      <td>Emx1-IRES-Cre;Camk2a-tTA;Ai93-283147</td>\n",
       "      <td>True</td>\n",
       "    </tr>\n",
       "    <tr>\n",
       "      <th>1</th>\n",
       "      <td>653123586</td>\n",
       "      <td>275</td>\n",
       "      <td>VISl</td>\n",
       "      <td>Rorb-IRES2-Cre</td>\n",
       "      <td>Ai93(TITL-GCaMP6f)</td>\n",
       "      <td>111</td>\n",
       "      <td>653123584</td>\n",
       "      <td>three_session_C2</td>\n",
       "      <td>352471</td>\n",
       "      <td>Rorb-IRES2-Cre;Camk2a-tTA;Ai93-352471</td>\n",
       "      <td>True</td>\n",
       "    </tr>\n",
       "    <tr>\n",
       "      <th>2</th>\n",
       "      <td>577225417</td>\n",
       "      <td>275</td>\n",
       "      <td>VISl</td>\n",
       "      <td>Vip-IRES-Cre</td>\n",
       "      <td>Ai148(TIT2L-GC6f-ICL-tTA2)</td>\n",
       "      <td>105</td>\n",
       "      <td>575772104</td>\n",
       "      <td>three_session_C2</td>\n",
       "      <td>296710</td>\n",
       "      <td>Vip-IRES-Cre;Ai148-296710</td>\n",
       "      <td>False</td>\n",
       "    </tr>\n",
       "    <tr>\n",
       "      <th>3</th>\n",
       "      <td>556353209</td>\n",
       "      <td>375</td>\n",
       "      <td>VISam</td>\n",
       "      <td>Rbp4-Cre_KL100</td>\n",
       "      <td>Ai93(TITL-GCaMP6f)</td>\n",
       "      <td>101</td>\n",
       "      <td>555327033</td>\n",
       "      <td>three_session_A</td>\n",
       "      <td>271750</td>\n",
       "      <td>Rbp4-Cre;Camk2a-tTA;Ai93-271750</td>\n",
       "      <td>True</td>\n",
       "    </tr>\n",
       "    <tr>\n",
       "      <th>4</th>\n",
       "      <td>510390912</td>\n",
       "      <td>275</td>\n",
       "      <td>VISal</td>\n",
       "      <td>Rorb-IRES2-Cre</td>\n",
       "      <td>Ai93(TITL-GCaMP6f)</td>\n",
       "      <td>80</td>\n",
       "      <td>511500480</td>\n",
       "      <td>three_session_A</td>\n",
       "      <td>232623</td>\n",
       "      <td>Rorb-IRES2-Cre;Camk2a-tTA;Ai93-232623</td>\n",
       "      <td>False</td>\n",
       "    </tr>\n",
       "  </tbody>\n",
       "</table>\n",
       "</div>"
      ],
      "text/plain": [
       "          id  imaging_depth targeted_structure        cre_line  \\\n",
       "0  566752133            175               VISl   Emx1-IRES-Cre   \n",
       "1  653123586            275               VISl  Rorb-IRES2-Cre   \n",
       "2  577225417            275               VISl    Vip-IRES-Cre   \n",
       "3  556353209            375              VISam  Rbp4-Cre_KL100   \n",
       "4  510390912            275              VISal  Rorb-IRES2-Cre   \n",
       "\n",
       "                reporter_line  acquisition_age_days  experiment_container_id  \\\n",
       "0          Ai93(TITL-GCaMP6f)                   116                564425775   \n",
       "1          Ai93(TITL-GCaMP6f)                   111                653123584   \n",
       "2  Ai148(TIT2L-GC6f-ICL-tTA2)                   105                575772104   \n",
       "3          Ai93(TITL-GCaMP6f)                   101                555327033   \n",
       "4          Ai93(TITL-GCaMP6f)                    80                511500480   \n",
       "\n",
       "       session_type donor_name                          specimen_name  \\\n",
       "0  three_session_C2     283147   Emx1-IRES-Cre;Camk2a-tTA;Ai93-283147   \n",
       "1  three_session_C2     352471  Rorb-IRES2-Cre;Camk2a-tTA;Ai93-352471   \n",
       "2  three_session_C2     296710              Vip-IRES-Cre;Ai148-296710   \n",
       "3   three_session_A     271750        Rbp4-Cre;Camk2a-tTA;Ai93-271750   \n",
       "4   three_session_A     232623  Rorb-IRES2-Cre;Camk2a-tTA;Ai93-232623   \n",
       "\n",
       "   fail_eye_tracking  \n",
       "0               True  \n",
       "1               True  \n",
       "2              False  \n",
       "3               True  \n",
       "4              False  "
      ]
     },
     "execution_count": 12,
     "metadata": {},
     "output_type": "execute_result"
    }
   ],
   "source": [
    "sessions = pd.DataFrame(boc.get_ophys_experiments())\n",
    "sessions.head()"
   ]
  },
  {
   "cell_type": "code",
   "execution_count": 13,
   "id": "db4bb3b3-cd94-4d8b-9068-aba181bf6dbc",
   "metadata": {
    "tags": []
   },
   "outputs": [
    {
     "data": {
      "text/plain": [
       "256"
      ]
     },
     "execution_count": 13,
     "metadata": {},
     "output_type": "execute_result"
    }
   ],
   "source": [
    "len(sessions.donor_name.unique())"
   ]
  },
  {
   "cell_type": "markdown",
   "id": "1b60f60d-1313-4b35-9648-badb235d120f",
   "metadata": {},
   "source": [
    "<div style=\"background: #DFF0D8; border-radius: 3px; padding: 10px;\">\n",
    "\n",
    "**Exercise:** How many sessions? How many sessions per mouse? \n",
    "</div>"
   ]
  },
  {
   "cell_type": "code",
   "execution_count": 14,
   "id": "e4ca73ec-8b1e-429d-8ab7-03f67c4b1815",
   "metadata": {
    "tags": []
   },
   "outputs": [
    {
     "data": {
      "text/plain": [
       "1368"
      ]
     },
     "execution_count": 14,
     "metadata": {},
     "output_type": "execute_result"
    }
   ],
   "source": [
    "len(sessions) "
   ]
  },
  {
   "cell_type": "markdown",
   "id": "b59a20ac-87bd-46ef-a186-b7e0f22a191a",
   "metadata": {},
   "source": [
    "<div style=\"background: #DFF0D8; border-radius: 3px; padding: 10px;\">\n",
    "\n",
    "**Exercise:** What transgenic lines were used in this dataset? \n",
    "    \n",
    "What cell types do these transgenic lines target? Refer to the [Data Book](https://allenswdb.github.io/background/transgenic-tools.html) for this. \n",
    "</div>"
   ]
  },
  {
   "cell_type": "code",
   "execution_count": 21,
   "id": "d99bc0c3-34ac-4eaf-8894-7071a8b4bf17",
   "metadata": {
    "tags": []
   },
   "outputs": [
    {
     "data": {
      "text/plain": [
       "['Ai148(TIT2L-GC6f-ICL-tTA2)',\n",
       " 'Ai162(TIT2L-GC6s-ICL-tTA2)',\n",
       " 'Ai93(TITL-GCaMP6f)',\n",
       " 'Ai93(TITL-GCaMP6f)-hyg',\n",
       " 'Ai94(TITL-GCaMP6s)']"
      ]
     },
     "execution_count": 21,
     "metadata": {},
     "output_type": "execute_result"
    }
   ],
   "source": [
    "boc.get_all_reporter_lines()"
   ]
  },
  {
   "cell_type": "code",
   "execution_count": 22,
   "id": "66f5a77d-aee9-445c-91f4-3b433e2db1dd",
   "metadata": {
    "tags": []
   },
   "outputs": [
    {
     "data": {
      "text/plain": [
       "['Cux2-CreERT2',\n",
       " 'Emx1-IRES-Cre',\n",
       " 'Fezf2-CreER',\n",
       " 'Nr5a1-Cre',\n",
       " 'Ntsr1-Cre_GN220',\n",
       " 'Pvalb-IRES-Cre',\n",
       " 'Rbp4-Cre_KL100',\n",
       " 'Rorb-IRES2-Cre',\n",
       " 'Scnn1a-Tg3-Cre',\n",
       " 'Slc17a7-IRES2-Cre',\n",
       " 'Sst-IRES-Cre',\n",
       " 'Tlx3-Cre_PL56',\n",
       " 'Vip-IRES-Cre']"
      ]
     },
     "execution_count": 22,
     "metadata": {},
     "output_type": "execute_result"
    }
   ],
   "source": [
    "boc.get_all_cre_lines()"
   ]
  },
  {
   "cell_type": "markdown",
   "id": "8c681c28-5411-4d73-be60-0a2dec13d6bb",
   "metadata": {},
   "source": [
    "<div style=\"background: #DFF0D8; border-radius: 3px; padding: 10px;\">\n",
    "\n",
    "**Exercise:** What structures were targeted? If not in metadata, might need to infer from Data Book or NWB file itself. "
   ]
  },
  {
   "cell_type": "code",
   "execution_count": 23,
   "id": "3b71d7f1-fee3-4c6d-8e49-5c8dcb6c557e",
   "metadata": {
    "tags": []
   },
   "outputs": [
    {
     "data": {
      "text/plain": [
       "['VISal', 'VISam', 'VISl', 'VISp', 'VISpm', 'VISrl']"
      ]
     },
     "execution_count": 23,
     "metadata": {},
     "output_type": "execute_result"
    }
   ],
   "source": [
    "# Answered above \n",
    "targeted_structures = boc.get_all_targeted_structures()\n",
    "targeted_structures"
   ]
  },
  {
   "cell_type": "code",
   "execution_count": 24,
   "id": "27275ec8-c054-49df-afea-1674e7b3fce9",
   "metadata": {
    "tags": []
   },
   "outputs": [],
   "source": [
    "# From data book also learn that layer 2/3, 4, 5, 6 targeted "
   ]
  },
  {
   "cell_type": "markdown",
   "id": "f0d832e7-4d54-4049-8c5d-3537ea16a66f",
   "metadata": {},
   "source": [
    "<div style=\"background: #DFF0D8; border-radius: 3px; padding: 10px;\">\n",
    "\n",
    "**Exercise**: What units/neurons are available? How many neurons were recorded in this session? Has the data been pre-filtered based on quality control metrics? \n",
    "    "
   ]
  },
  {
   "cell_type": "code",
   "execution_count": 25,
   "id": "2b8f1ea5-bb74-493d-990f-1e50d523ffd5",
   "metadata": {
    "tags": []
   },
   "outputs": [],
   "source": [
    "# Get data from a select session in an experiment container \n",
    "experiment_container_id = 511510736\n",
    "session_id = boc.get_ophys_experiments(experiment_container_ids=[experiment_container_id], stimuli=['natural_scenes'])[0]['id']\n",
    "\n",
    "data_set = boc.get_ophys_experiment_data(ophys_experiment_id=session_id)"
   ]
  },
  {
   "cell_type": "code",
   "execution_count": 26,
   "id": "9b78590a-4cfa-40b7-877a-a1d5091bc99c",
   "metadata": {
    "tags": []
   },
   "outputs": [
    {
     "name": "stdout",
     "output_type": "stream",
     "text": [
      "Help on BrainObservatoryNwbDataSet in module allensdk.core.brain_observatory_nwb_data_set object:\n",
      "\n",
      "class BrainObservatoryNwbDataSet(builtins.object)\n",
      " |  BrainObservatoryNwbDataSet(nwb_file)\n",
      " |  \n",
      " |  Methods defined here:\n",
      " |  \n",
      " |  __init__(self, nwb_file)\n",
      " |      Initialize self.  See help(type(self)) for accurate signature.\n",
      " |  \n",
      " |  get_cell_specimen_ids(self)\n",
      " |      Returns an array of cell IDs for all cells in the file\n",
      " |      \n",
      " |      Returns\n",
      " |      -------\n",
      " |      cell specimen IDs: list\n",
      " |  \n",
      " |  get_cell_specimen_indices(self, cell_specimen_ids)\n",
      " |      Given a list of cell specimen ids, return their index based on their order in this file.\n",
      " |      \n",
      " |      Parameters\n",
      " |      ----------\n",
      " |      cell_specimen_ids: list of cell specimen ids\n",
      " |  \n",
      " |  get_corrected_fluorescence_traces(self, cell_specimen_ids=None)\n",
      " |      Returns an array of demixed and neuropil-corrected fluorescence traces\n",
      " |      for all ROIs and the timestamps for each datapoint\n",
      " |      \n",
      " |      Parameters\n",
      " |      ----------\n",
      " |      cell_specimen_ids: list or array (optional)\n",
      " |          List of cell IDs to return traces for. If this is None (default)\n",
      " |          then all are returned\n",
      " |      \n",
      " |      Returns\n",
      " |      -------\n",
      " |      timestamps: 2D numpy array\n",
      " |          Timestamp for each fluorescence sample\n",
      " |      \n",
      " |      traces: 2D numpy array\n",
      " |          Corrected fluorescence traces for each cell\n",
      " |  \n",
      " |  get_demixed_traces(self, cell_specimen_ids=None)\n",
      " |      Returns an array of demixed fluorescence traces for all ROIs\n",
      " |      and the timestamps for each datapoint\n",
      " |      \n",
      " |      Parameters\n",
      " |      ----------\n",
      " |      cell_specimen_ids: list or array (optional)\n",
      " |          List of cell IDs to return traces for. If this is None (default)\n",
      " |          then all are returned\n",
      " |      \n",
      " |      Returns\n",
      " |      -------\n",
      " |      timestamps: 2D numpy array\n",
      " |          Timestamp for each fluorescence sample\n",
      " |      \n",
      " |      traces: 2D numpy array\n",
      " |          Demixed fluorescence traces for each cell\n",
      " |  \n",
      " |  get_dff_traces(self, cell_specimen_ids=None)\n",
      " |      Returns an array of dF/F traces for all ROIs and\n",
      " |      the timestamps for each datapoint\n",
      " |      \n",
      " |      Parameters\n",
      " |      ----------\n",
      " |      cell_specimen_ids: list or array (optional)\n",
      " |          List of cell IDs to return data for. If this is None (default)\n",
      " |          then all are returned\n",
      " |      \n",
      " |      Returns\n",
      " |      -------\n",
      " |      timestamps: 2D numpy array\n",
      " |          Timestamp for each fluorescence sample\n",
      " |      \n",
      " |      dF/F: 2D numpy array\n",
      " |          dF/F values for each cell\n",
      " |  \n",
      " |  get_fluorescence_timestamps(self)\n",
      " |      Returns an array of timestamps in seconds for the fluorescence traces\n",
      " |  \n",
      " |  get_fluorescence_traces(self, cell_specimen_ids=None)\n",
      " |      Returns an array of fluorescence traces for all ROI and\n",
      " |      the timestamps for each datapoint\n",
      " |      \n",
      " |      Parameters\n",
      " |      ----------\n",
      " |      cell_specimen_ids: list or array (optional)\n",
      " |          List of cell IDs to return traces for. If this is None (default)\n",
      " |          then all are returned\n",
      " |      \n",
      " |      Returns\n",
      " |      -------\n",
      " |      timestamps: 2D numpy array\n",
      " |          Timestamp for each fluorescence sample\n",
      " |      \n",
      " |      traces: 2D numpy array\n",
      " |          Fluorescence traces for each cell\n",
      " |  \n",
      " |  get_locally_sparse_noise_stimulus_template(self, stimulus, mask_off_screen=True)\n",
      " |      Return an array of the stimulus template for the specified stimulus.\n",
      " |      \n",
      " |      Parameters\n",
      " |      ----------\n",
      " |      stimulus: string\n",
      " |         Which locally sparse noise stimulus to retrieve.  Must be one of:\n",
      " |             stimulus_info.LOCALLY_SPARSE_NOISE\n",
      " |             stimulus_info.LOCALLY_SPARSE_NOISE_4DEG\n",
      " |             stimulus_info.LOCALLY_SPARSE_NOISE_8DEG\n",
      " |      \n",
      " |      mask_off_screen: boolean\n",
      " |         Set off-screen regions of the stimulus to LocallySparseNoise.LSN_OFF_SCREEN.\n",
      " |      \n",
      " |      Returns\n",
      " |      -------\n",
      " |      tuple: (template, off-screen mask)\n",
      " |  \n",
      " |  get_max_projection(self)\n",
      " |      Returns the maximum projection image for the 2P movie.\n",
      " |      \n",
      " |      Returns\n",
      " |      -------\n",
      " |      max projection: np.ndarray\n",
      " |  \n",
      " |  get_metadata(self)\n",
      " |      Returns a dictionary of meta data associated with each\n",
      " |      experiment, including Cre line, specimen number,\n",
      " |      visual area imaged, imaging depth\n",
      " |      \n",
      " |      Returns\n",
      " |      -------\n",
      " |      metadata: dictionary\n",
      " |  \n",
      " |  get_motion_correction(self)\n",
      " |      Returns a Panda DataFrame containing the x- and y- translation of each image used for image alignment\n",
      " |  \n",
      " |  get_neuropil_r(self, cell_specimen_ids=None)\n",
      " |      Returns a scalar value of r for neuropil correction of flourescence traces\n",
      " |      \n",
      " |      Parameters\n",
      " |      ----------\n",
      " |      cell_specimen_ids: list or array (optional)\n",
      " |          List of cell IDs to return traces for. If this is None (default)\n",
      " |          then results for all are returned\n",
      " |      \n",
      " |      Returns\n",
      " |      -------\n",
      " |      r: 1D numpy array, len(r)=len(cell_specimen_ids)\n",
      " |          Scalar for neuropil subtraction for each cell\n",
      " |  \n",
      " |  get_neuropil_traces(self, cell_specimen_ids=None)\n",
      " |      Returns an array of neuropil fluorescence traces for all ROIs\n",
      " |      and the timestamps for each datapoint\n",
      " |      \n",
      " |      Parameters\n",
      " |      ----------\n",
      " |      cell_specimen_ids: list or array (optional)\n",
      " |          List of cell IDs to return traces for. If this is None (default)\n",
      " |          then all are returned\n",
      " |      \n",
      " |      Returns\n",
      " |      -------\n",
      " |      timestamps: 2D numpy array\n",
      " |          Timestamp for each fluorescence sample\n",
      " |      \n",
      " |      traces: 2D numpy array\n",
      " |          Neuropil fluorescence traces for each cell\n",
      " |  \n",
      " |  get_pupil_location(self, as_spherical=True)\n",
      " |      Returns the x, y pupil location.\n",
      " |      \n",
      " |      Parameters\n",
      " |      ----------\n",
      " |      as_spherical : bool\n",
      " |          Whether to return the location as spherical (default) or\n",
      " |          not. If true, the result is altitude and azimuth in\n",
      " |          degrees, otherwise it is x, y in centimeters. (0,0) is\n",
      " |          the center of the monitor.\n",
      " |      \n",
      " |      Returns\n",
      " |      -------\n",
      " |      (timestamps, location)\n",
      " |          Timestamps is an (Nx1) array of timestamps in seconds.\n",
      " |          Location is an (Nx2) array of spatial location.\n",
      " |  \n",
      " |  get_pupil_size(self)\n",
      " |      Returns the pupil area in pixels.\n",
      " |      \n",
      " |      Returns\n",
      " |      -------\n",
      " |      (timestamps, areas)\n",
      " |          Timestamps is an (Nx1) array of timestamps in seconds.\n",
      " |          Areas is an (Nx1) array of pupil areas in pixels.\n",
      " |  \n",
      " |  get_roi_ids(self)\n",
      " |      Returns an array of IDs for all ROIs in the file\n",
      " |      \n",
      " |      Returns\n",
      " |      -------\n",
      " |      ROI IDs: list\n",
      " |  \n",
      " |  get_roi_mask(self, cell_specimen_ids=None)\n",
      " |      Returns an array of all the ROI masks\n",
      " |      \n",
      " |      Parameters\n",
      " |      ----------\n",
      " |      cell specimen IDs: list or array (optional)\n",
      " |          List of cell IDs to return traces for. If this is None (default)\n",
      " |          then all are returned\n",
      " |      \n",
      " |      Returns\n",
      " |      -------\n",
      " |          List of ROI_Mask objects\n",
      " |  \n",
      " |  get_roi_mask_array(self, cell_specimen_ids=None)\n",
      " |      Return a numpy array containing all of the ROI masks for requested cells.\n",
      " |      If cell_specimen_ids is omitted, return all masks.\n",
      " |      \n",
      " |      Parameters\n",
      " |      ----------\n",
      " |      cell_specimen_ids: list\n",
      " |          List of cell specimen ids.  Default None.\n",
      " |      \n",
      " |      Returns\n",
      " |      -------\n",
      " |      np.ndarray: NxWxH array, where N is number of cells\n",
      " |  \n",
      " |  get_running_speed(self)\n",
      " |      Returns the mouse running speed in cm/s\n",
      " |  \n",
      " |  get_session_type(self)\n",
      " |      Returns the type of experimental session, presently one of the\n",
      " |      following: three_session_A, three_session_B, three_session_C\n",
      " |      \n",
      " |      Returns\n",
      " |      -------\n",
      " |      session type: string\n",
      " |  \n",
      " |  get_stimulus(self, frame_ind)\n",
      " |  \n",
      " |  get_stimulus_epoch_table(self)\n",
      " |      Returns a pandas dataframe that summarizes the stimulus epoch duration for each acquisition time index in\n",
      " |      the experiment\n",
      " |      \n",
      " |      Parameters\n",
      " |      ----------\n",
      " |      None\n",
      " |      \n",
      " |      Returns\n",
      " |      -------\n",
      " |      timestamps: 2D numpy array\n",
      " |          Timestamp for each fluorescence sample\n",
      " |      \n",
      " |      traces: 2D numpy array\n",
      " |          Fluorescence traces for each cell\n",
      " |  \n",
      " |  get_stimulus_table(self, stimulus_name)\n",
      " |      Return a stimulus table given a stimulus name \n",
      " |      \n",
      " |      Notes\n",
      " |      -----\n",
      " |      For more information, see:\n",
      " |      http://help.brain-map.org/display/observatory/Documentation?preview=/10616846/10813485/VisualCoding_VisualStimuli.pdf\n",
      " |  \n",
      " |  get_stimulus_template(self, stimulus_name)\n",
      " |      Return an array of the stimulus template for the specified stimulus.\n",
      " |      \n",
      " |      Parameters\n",
      " |      ----------\n",
      " |      stimulus_name: string\n",
      " |          Must be one of the strings returned by list_stimuli().\n",
      " |      \n",
      " |      Returns\n",
      " |      -------\n",
      " |      stimulus table: pd.DataFrame\n",
      " |  \n",
      " |  list_stimuli(self)\n",
      " |      Return a list of the stimuli presented in the experiment.\n",
      " |      \n",
      " |      Returns\n",
      " |      -------\n",
      " |      stimuli: list of strings\n",
      " |  \n",
      " |  save_analysis_arrays(self, *datasets)\n",
      " |  \n",
      " |  save_analysis_dataframes(self, *tables)\n",
      " |  \n",
      " |  ----------------------------------------------------------------------\n",
      " |  Readonly properties defined here:\n",
      " |  \n",
      " |  number_of_cells\n",
      " |      Number of cells in the experiment\n",
      " |  \n",
      " |  stimulus_search\n",
      " |  \n",
      " |  ----------------------------------------------------------------------\n",
      " |  Data descriptors defined here:\n",
      " |  \n",
      " |  __dict__\n",
      " |      dictionary for instance variables (if defined)\n",
      " |  \n",
      " |  __weakref__\n",
      " |      list of weak references to the object (if defined)\n",
      " |  \n",
      " |  ----------------------------------------------------------------------\n",
      " |  Data and other attributes defined here:\n",
      " |  \n",
      " |  FILE_METADATA_MAPPING = {'age': 'general/subject/age', 'device_string'...\n",
      " |  \n",
      " |  MOTION_CORRECTION_DATASETS = ['MotionCorrection/2p_image_series/xy_tra...\n",
      " |  \n",
      " |  PIPELINE_DATASET = 'brain_observatory_pipeline'\n",
      " |  \n",
      " |  STIMULUS_TABLE_TYPES = {'abstract_feature_series': ['drifting_gratings...\n",
      " |  \n",
      " |  SUPPORTED_PIPELINE_VERSION = '3.0'\n",
      "\n"
     ]
    }
   ],
   "source": [
    "help(data_set)"
   ]
  },
  {
   "cell_type": "code",
   "execution_count": 27,
   "id": "8284ff3c-2bc0-4ed0-b637-e729aec1a0cc",
   "metadata": {
    "tags": []
   },
   "outputs": [
    {
     "data": {
      "text/plain": [
       "174"
      ]
     },
     "execution_count": 27,
     "metadata": {},
     "output_type": "execute_result"
    }
   ],
   "source": [
    "data_set.number_of_cells"
   ]
  },
  {
   "cell_type": "code",
   "execution_count": null,
   "id": "c6e164d9-c5ce-4eb2-809f-23e8d9a6b6ca",
   "metadata": {},
   "outputs": [],
   "source": [
    "# From data book - defaults are QC'ed "
   ]
  },
  {
   "cell_type": "markdown",
   "id": "7dad6770-ff45-46d4-b779-85cd85ba97d0",
   "metadata": {},
   "source": [
    "<div style=\"background: #DFF0D8; border-radius: 3px; padding: 10px;\">\n",
    "\n",
    "**Exercise**: What stimuli, behaviors, and conditions were applied or recorded in this experiment? "
   ]
  },
  {
   "cell_type": "code",
   "execution_count": 28,
   "id": "cf3aa61a-f6e9-417f-85e5-43620741eda9",
   "metadata": {
    "tags": []
   },
   "outputs": [
    {
     "data": {
      "text/plain": [
       "['drifting_gratings',\n",
       " 'locally_sparse_noise',\n",
       " 'locally_sparse_noise_4deg',\n",
       " 'locally_sparse_noise_8deg',\n",
       " 'natural_movie_one',\n",
       " 'natural_movie_three',\n",
       " 'natural_movie_two',\n",
       " 'natural_scenes',\n",
       " 'spontaneous',\n",
       " 'static_gratings']"
      ]
     },
     "execution_count": 28,
     "metadata": {},
     "output_type": "execute_result"
    }
   ],
   "source": [
    "boc.get_all_stimuli()"
   ]
  },
  {
   "cell_type": "markdown",
   "id": "d792c18d-8f80-461a-9550-67f9263e87eb",
   "metadata": {
    "tags": []
   },
   "source": [
    "<div style=\"background: #DFF0D8; border-radius: 3px; padding: 10px;\">\n",
    "\n",
    "**Exercise**: How long is a session? "
   ]
  },
  {
   "cell_type": "code",
   "execution_count": 31,
   "id": "bcf1f24c-0850-4962-a695-b42f471adbb6",
   "metadata": {
    "tags": []
   },
   "outputs": [
    {
     "data": {
      "text/plain": [
       "63.10869916666666"
      ]
     },
     "execution_count": 31,
     "metadata": {},
     "output_type": "execute_result"
    }
   ],
   "source": [
    "ts, dff = data_set.get_dff_traces() \n",
    "\n",
    "(ts[-1] - ts[0])/60"
   ]
  },
  {
   "cell_type": "markdown",
   "id": "cbe8d023-a9c7-4293-a235-aae663b40a3f",
   "metadata": {
    "tags": []
   },
   "source": [
    "<div style=\"background: #DFF0D8; border-radius: 3px; padding: 10px;\">\n",
    "\n",
    "**Exercise**: What is the sampling rate? "
   ]
  },
  {
   "cell_type": "code",
   "execution_count": 34,
   "id": "3860740c-0b51-4bca-b41a-34eaf71826fb",
   "metadata": {
    "tags": []
   },
   "outputs": [
    {
     "data": {
      "text/plain": [
       "{'sex': 'male',\n",
       " 'targeted_structure': 'VISp',\n",
       " 'ophys_experiment_id': 501559087,\n",
       " 'experiment_container_id': 511510736,\n",
       " 'excitation_lambda': '910 nanometers',\n",
       " 'indicator': 'GCaMP6f',\n",
       " 'fov': '400x400 microns (512 x 512 pixels)',\n",
       " 'genotype': 'Cux2-CreERT2/wt;Camk2a-tTA/wt;Ai93(TITL-GCaMP6f)/Ai93(TITL-GCaMP6f)',\n",
       " 'session_start_time': datetime.datetime(2016, 2, 4, 10, 25, 24),\n",
       " 'session_type': 'three_session_B',\n",
       " 'specimen_name': 'Cux2-CreERT2;Camk2a-tTA;Ai93-222426',\n",
       " 'cre_line': 'Cux2-CreERT2/wt',\n",
       " 'imaging_depth_um': 175,\n",
       " 'age_days': 104,\n",
       " 'device': 'Nikon A1R-MP multiphoton microscope',\n",
       " 'device_name': 'CAM2P.2',\n",
       " 'pipeline_version': '3.0'}"
      ]
     },
     "execution_count": 34,
     "metadata": {},
     "output_type": "execute_result"
    }
   ],
   "source": [
    "data_set.get_metadata()\n",
    "\n",
    "# From data book 31 Hz? "
   ]
  },
  {
   "cell_type": "markdown",
   "id": "00cd88d8-e108-42cd-a5a0-0fd317e622e8",
   "metadata": {},
   "source": [
    "<div style=\"background: #DFF0D8; border-radius: 3px; padding: 10px;\">\n",
    "\n",
    "**Exercise**: Did the mice receive behavior training before recording sessions? Are the sessions longitudinal? \n",
    "    \n",
    "You might need to infer this by looking at the entire dataset, looking within the NWB files, and reading the Data Book. "
   ]
  },
  {
   "cell_type": "markdown",
   "id": "d8ce3fb0-306b-4f03-b07b-3e21c0e2991c",
   "metadata": {},
   "source": [
    "Refer to data book, assume habituation. Sometimes recordings from multiple FOVs in an animal. "
   ]
  }
 ],
 "metadata": {
  "kernelspec": {
   "display_name": "Python 3 (ipykernel)",
   "language": "python",
   "name": "python3"
  },
  "language_info": {
   "codemirror_mode": {
    "name": "ipython",
    "version": 3
   },
   "file_extension": ".py",
   "mimetype": "text/x-python",
   "name": "python",
   "nbconvert_exporter": "python",
   "pygments_lexer": "ipython3",
   "version": "3.9.12"
  }
 },
 "nbformat": 4,
 "nbformat_minor": 5
}
