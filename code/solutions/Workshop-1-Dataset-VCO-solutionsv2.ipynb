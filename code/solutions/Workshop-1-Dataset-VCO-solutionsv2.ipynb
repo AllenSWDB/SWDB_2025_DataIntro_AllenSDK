{
 "cells": [
  {
   "cell_type": "code",
   "execution_count": 1,
   "id": "83d8af41-9813-4439-9558-b2176c0ff0fb",
   "metadata": {
    "tags": []
   },
   "outputs": [],
   "source": [
    "# general imports \n",
    "import allensdk\n",
    "import numpy as np\n",
    "import pandas as pd\n",
    "import matplotlib.pyplot as plt\n",
    "%matplotlib inline "
   ]
  },
  {
   "cell_type": "code",
   "execution_count": 2,
   "id": "3ef30742-c328-4e50-b962-dd89ee721d62",
   "metadata": {
    "tags": []
   },
   "outputs": [
    {
     "name": "stdout",
     "output_type": "stream",
     "text": [
      "data directory set to /data/\n"
     ]
    }
   ],
   "source": [
    "# set data path\n",
    "import sys\n",
    "import platform\n",
    "from os.path import join as pjoin\n",
    "\n",
    "platstring = platform.platform()\n",
    "system = platform.system()\n",
    "if system == \"Darwin\":\n",
    "    # macOS\n",
    "    data_dir = \"/Volumes/Brain2025/\"\n",
    "elif system == \"Windows\":\n",
    "    # Windows (replace with the drive letter of USB drive)\n",
    "    data_dir = \"E:/\"\n",
    "elif \"amzn\" in platstring:\n",
    "    # then on CodeOcean\n",
    "    data_dir = \"/data/\"\n",
    "else:\n",
    "    # then your own linux platform\n",
    "    # EDIT location where you mounted hard drive\n",
    "    data_dir = \"/media/$USERNAME/Brain2025/\"\n",
    "    \n",
    "print('data directory set to', data_dir)"
   ]
  },
  {
   "cell_type": "code",
   "execution_count": 3,
   "id": "428f0894-cbb9-42a3-9469-38fd8f425eba",
   "metadata": {
    "tags": []
   },
   "outputs": [],
   "source": [
    "from allensdk.core.brain_observatory_cache import BrainObservatoryCache\n",
    "manifest_file = '../../../data/allen-brain-observatory/visual-coding-2p/manifest.json'\n",
    "boc = BrainObservatoryCache(manifest_file=manifest_file)"
   ]
  },
  {
   "cell_type": "markdown",
   "id": "a8ebf1e6-f755-4c65-aee8-7c683dc3232a",
   "metadata": {
    "tags": []
   },
   "source": [
    "<div style=\"background: #DFF0D8; border-radius: 3px; padding: 10px;\">\n",
    "\n",
    "**Exercise:** What modality was used?\n",
    "</div>"
   ]
  },
  {
   "cell_type": "markdown",
   "id": "2c459fca-5a2f-4a8f-afe2-408969d5b0fd",
   "metadata": {},
   "source": [
    "infer from data book "
   ]
  },
  {
   "cell_type": "markdown",
   "id": "0f39b914-b186-425d-abc3-83fb1a2adaf2",
   "metadata": {},
   "source": [
    "<div style=\"background: #DFF0D8; border-radius: 3px; padding: 10px;\">\n",
    "\n",
    "**Exercise:** How many mice were used in this dataset?\n",
    "</div>"
   ]
  },
  {
   "cell_type": "code",
   "execution_count": 4,
   "id": "e82c3954-166e-4e1a-8df1-ac80bc3b4574",
   "metadata": {
    "tags": []
   },
   "outputs": [
    {
     "data": {
      "text/html": [
       "<div>\n",
       "<style scoped>\n",
       "    .dataframe tbody tr th:only-of-type {\n",
       "        vertical-align: middle;\n",
       "    }\n",
       "\n",
       "    .dataframe tbody tr th {\n",
       "        vertical-align: top;\n",
       "    }\n",
       "\n",
       "    .dataframe thead th {\n",
       "        text-align: right;\n",
       "    }\n",
       "</style>\n",
       "<table border=\"1\" class=\"dataframe\">\n",
       "  <thead>\n",
       "    <tr style=\"text-align: right;\">\n",
       "      <th></th>\n",
       "      <th>id</th>\n",
       "      <th>imaging_depth</th>\n",
       "      <th>targeted_structure</th>\n",
       "      <th>cre_line</th>\n",
       "      <th>reporter_line</th>\n",
       "      <th>acquisition_age_days</th>\n",
       "      <th>experiment_container_id</th>\n",
       "      <th>session_type</th>\n",
       "      <th>donor_name</th>\n",
       "      <th>specimen_name</th>\n",
       "      <th>fail_eye_tracking</th>\n",
       "    </tr>\n",
       "  </thead>\n",
       "  <tbody>\n",
       "    <tr>\n",
       "      <th>0</th>\n",
       "      <td>991852000</td>\n",
       "      <td>171</td>\n",
       "      <td>VISp</td>\n",
       "      <td>Slc17a7-IRES2-Cre</td>\n",
       "      <td>Ai93(TITL-GCaMP6f)</td>\n",
       "      <td>171</td>\n",
       "      <td>1018028049</td>\n",
       "      <td>OPHYS_6_images_B</td>\n",
       "      <td>479839</td>\n",
       "      <td>Slc17a7-IRES2-Cre;Camk2a-tTA;Ai93-479839</td>\n",
       "      <td>True</td>\n",
       "    </tr>\n",
       "    <tr>\n",
       "      <th>1</th>\n",
       "      <td>649409874</td>\n",
       "      <td>175</td>\n",
       "      <td>VISpm</td>\n",
       "      <td>Vip-IRES-Cre</td>\n",
       "      <td>Ai148(TIT2L-GC6f-ICL-tTA2)</td>\n",
       "      <td>100</td>\n",
       "      <td>646959440</td>\n",
       "      <td>three_session_A</td>\n",
       "      <td>350249</td>\n",
       "      <td>Vip-IRES-Cre;Ai148-350249</td>\n",
       "      <td>False</td>\n",
       "    </tr>\n",
       "    <tr>\n",
       "      <th>2</th>\n",
       "      <td>663488086</td>\n",
       "      <td>175</td>\n",
       "      <td>VISl</td>\n",
       "      <td>Slc17a7-IRES2-Cre</td>\n",
       "      <td>Ai93(TITL-GCaMP6f)</td>\n",
       "      <td>124</td>\n",
       "      <td>662358769</td>\n",
       "      <td>three_session_B</td>\n",
       "      <td>361636</td>\n",
       "      <td>Slc17a7-IRES2-Cre;Camk2a-tTA;Ai93-361636</td>\n",
       "      <td>False</td>\n",
       "    </tr>\n",
       "    <tr>\n",
       "      <th>3</th>\n",
       "      <td>958741219</td>\n",
       "      <td>150</td>\n",
       "      <td>VISp</td>\n",
       "      <td>Sst-IRES-Cre</td>\n",
       "      <td>Ai148(TIT2L-GC6f-ICL-tTA2)</td>\n",
       "      <td>216</td>\n",
       "      <td>1018028342</td>\n",
       "      <td>OPHYS_3_images_A</td>\n",
       "      <td>457841</td>\n",
       "      <td>Sst-IRES-Cre;Ai148-457841</td>\n",
       "      <td>True</td>\n",
       "    </tr>\n",
       "    <tr>\n",
       "      <th>4</th>\n",
       "      <td>939319851</td>\n",
       "      <td>175</td>\n",
       "      <td>VISp</td>\n",
       "      <td>Vip-IRES-Cre</td>\n",
       "      <td>Ai148(TIT2L-GC6f-ICL-tTA2)</td>\n",
       "      <td>141</td>\n",
       "      <td>928325203</td>\n",
       "      <td>OPHYS_5_images_A_passive</td>\n",
       "      <td>467951</td>\n",
       "      <td>Vip-IRES-Cre;Ai148-467951</td>\n",
       "      <td>True</td>\n",
       "    </tr>\n",
       "  </tbody>\n",
       "</table>\n",
       "</div>"
      ],
      "text/plain": [
       "          id  imaging_depth targeted_structure           cre_line  \\\n",
       "0  991852000            171               VISp  Slc17a7-IRES2-Cre   \n",
       "1  649409874            175              VISpm       Vip-IRES-Cre   \n",
       "2  663488086            175               VISl  Slc17a7-IRES2-Cre   \n",
       "3  958741219            150               VISp       Sst-IRES-Cre   \n",
       "4  939319851            175               VISp       Vip-IRES-Cre   \n",
       "\n",
       "                reporter_line  acquisition_age_days  experiment_container_id  \\\n",
       "0          Ai93(TITL-GCaMP6f)                   171               1018028049   \n",
       "1  Ai148(TIT2L-GC6f-ICL-tTA2)                   100                646959440   \n",
       "2          Ai93(TITL-GCaMP6f)                   124                662358769   \n",
       "3  Ai148(TIT2L-GC6f-ICL-tTA2)                   216               1018028342   \n",
       "4  Ai148(TIT2L-GC6f-ICL-tTA2)                   141                928325203   \n",
       "\n",
       "               session_type donor_name  \\\n",
       "0          OPHYS_6_images_B     479839   \n",
       "1           three_session_A     350249   \n",
       "2           three_session_B     361636   \n",
       "3          OPHYS_3_images_A     457841   \n",
       "4  OPHYS_5_images_A_passive     467951   \n",
       "\n",
       "                              specimen_name  fail_eye_tracking  \n",
       "0  Slc17a7-IRES2-Cre;Camk2a-tTA;Ai93-479839               True  \n",
       "1                 Vip-IRES-Cre;Ai148-350249              False  \n",
       "2  Slc17a7-IRES2-Cre;Camk2a-tTA;Ai93-361636              False  \n",
       "3                 Sst-IRES-Cre;Ai148-457841               True  \n",
       "4                 Vip-IRES-Cre;Ai148-467951               True  "
      ]
     },
     "execution_count": 4,
     "metadata": {},
     "output_type": "execute_result"
    }
   ],
   "source": [
    "sessions = pd.DataFrame(boc.get_ophys_experiments())\n",
    "sessions.head()"
   ]
  },
  {
   "cell_type": "code",
   "execution_count": 5,
   "id": "db4bb3b3-cd94-4d8b-9068-aba181bf6dbc",
   "metadata": {
    "tags": []
   },
   "outputs": [
    {
     "data": {
      "text/plain": [
       "338"
      ]
     },
     "execution_count": 5,
     "metadata": {},
     "output_type": "execute_result"
    }
   ],
   "source": [
    "len(sessions.donor_name.unique())"
   ]
  },
  {
   "cell_type": "markdown",
   "id": "1b60f60d-1313-4b35-9648-badb235d120f",
   "metadata": {},
   "source": [
    "<div style=\"background: #DFF0D8; border-radius: 3px; padding: 10px;\">\n",
    "\n",
    "**Exercise:** How many sessions? How many sessions per mouse? \n",
    "</div>"
   ]
  },
  {
   "cell_type": "code",
   "execution_count": 6,
   "id": "e4ca73ec-8b1e-429d-8ab7-03f67c4b1815",
   "metadata": {
    "tags": []
   },
   "outputs": [
    {
     "data": {
      "text/plain": [
       "2534"
      ]
     },
     "execution_count": 6,
     "metadata": {},
     "output_type": "execute_result"
    }
   ],
   "source": [
    "len(sessions) "
   ]
  },
  {
   "cell_type": "markdown",
   "id": "b59a20ac-87bd-46ef-a186-b7e0f22a191a",
   "metadata": {},
   "source": [
    "<div style=\"background: #DFF0D8; border-radius: 3px; padding: 10px;\">\n",
    "\n",
    "**Exercise:** What transgenic lines were used in this dataset? \n",
    "    \n",
    "What cell types do these transgenic lines target? Refer to the [Data Book](https://allenswdb.github.io/background/transgenic-tools.html) for this. \n",
    "</div>"
   ]
  },
  {
   "cell_type": "code",
   "execution_count": 7,
   "id": "d99bc0c3-34ac-4eaf-8894-7071a8b4bf17",
   "metadata": {
    "tags": []
   },
   "outputs": [
    {
     "data": {
      "text/plain": [
       "['Ai148(TIT2L-GC6f-ICL-tTA2)',\n",
       " 'Ai162(TIT2L-GC6s-ICL-tTA2)',\n",
       " 'Ai93(TITL-GCaMP6f)',\n",
       " 'Ai93(TITL-GCaMP6f)-hyg',\n",
       " 'Ai94(TITL-GCaMP6s)']"
      ]
     },
     "execution_count": 7,
     "metadata": {},
     "output_type": "execute_result"
    }
   ],
   "source": [
    "boc.get_all_reporter_lines()"
   ]
  },
  {
   "cell_type": "code",
   "execution_count": 8,
   "id": "66f5a77d-aee9-445c-91f4-3b433e2db1dd",
   "metadata": {
    "tags": []
   },
   "outputs": [
    {
     "data": {
      "text/plain": [
       "['Cux2-CreERT2',\n",
       " 'Emx1-IRES-Cre',\n",
       " 'Fezf2-CreER',\n",
       " 'Nr5a1-Cre',\n",
       " 'Ntsr1-Cre_GN220',\n",
       " 'Pvalb-IRES-Cre',\n",
       " 'Rbp4-Cre_KL100',\n",
       " 'Rorb-IRES2-Cre',\n",
       " 'Scnn1a-Tg3-Cre',\n",
       " 'Slc17a7-IRES2-Cre',\n",
       " 'Sst-IRES-Cre',\n",
       " 'Tlx3-Cre_PL56',\n",
       " 'Vip-IRES-Cre']"
      ]
     },
     "execution_count": 8,
     "metadata": {},
     "output_type": "execute_result"
    }
   ],
   "source": [
    "boc.get_all_cre_lines()"
   ]
  },
  {
   "cell_type": "markdown",
   "id": "8c681c28-5411-4d73-be60-0a2dec13d6bb",
   "metadata": {},
   "source": [
    "<div style=\"background: #DFF0D8; border-radius: 3px; padding: 10px;\">\n",
    "\n",
    "**Exercise:** What structures were targeted? If not in metadata, might need to infer from Data Book or NWB file itself. "
   ]
  },
  {
   "cell_type": "code",
   "execution_count": 9,
   "id": "3b71d7f1-fee3-4c6d-8e49-5c8dcb6c557e",
   "metadata": {
    "tags": []
   },
   "outputs": [
    {
     "data": {
      "text/plain": [
       "['VISal', 'VISam', 'VISl', 'VISp', 'VISpm', 'VISrl']"
      ]
     },
     "execution_count": 9,
     "metadata": {},
     "output_type": "execute_result"
    }
   ],
   "source": [
    "# Answered above \n",
    "targeted_structures = boc.get_all_targeted_structures()\n",
    "targeted_structures"
   ]
  },
  {
   "cell_type": "code",
   "execution_count": 10,
   "id": "27275ec8-c054-49df-afea-1674e7b3fce9",
   "metadata": {
    "tags": []
   },
   "outputs": [],
   "source": [
    "# From data book also learn that layer 2/3, 4, 5, 6 targeted "
   ]
  },
  {
   "cell_type": "markdown",
   "id": "f0d832e7-4d54-4049-8c5d-3537ea16a66f",
   "metadata": {},
   "source": [
    "<div style=\"background: #DFF0D8; border-radius: 3px; padding: 10px;\">\n",
    "\n",
    "**Exercise**: What units/neurons are available? How many neurons were recorded in this session? Has the data been pre-filtered based on quality control metrics? \n",
    "    "
   ]
  },
  {
   "cell_type": "code",
   "execution_count": 23,
   "id": "2f211c7e-fed3-4893-9915-677e167bc56b",
   "metadata": {
    "tags": []
   },
   "outputs": [],
   "source": [
    "cell_specimens = pd.DataFrame(boc.get_cell_specimens())"
   ]
  },
  {
   "cell_type": "code",
   "execution_count": 24,
   "id": "d70f8820-31b9-4024-acd9-919c07f5c400",
   "metadata": {
    "tags": []
   },
   "outputs": [
    {
     "data": {
      "text/html": [
       "<div>\n",
       "<style scoped>\n",
       "    .dataframe tbody tr th:only-of-type {\n",
       "        vertical-align: middle;\n",
       "    }\n",
       "\n",
       "    .dataframe tbody tr th {\n",
       "        vertical-align: top;\n",
       "    }\n",
       "\n",
       "    .dataframe thead th {\n",
       "        text-align: right;\n",
       "    }\n",
       "</style>\n",
       "<table border=\"1\" class=\"dataframe\">\n",
       "  <thead>\n",
       "    <tr style=\"text-align: right;\">\n",
       "      <th></th>\n",
       "      <th>all_stim</th>\n",
       "      <th>area</th>\n",
       "      <th>cell_specimen_id</th>\n",
       "      <th>donor_full_genotype</th>\n",
       "      <th>dsi_dg</th>\n",
       "      <th>experiment_container_id</th>\n",
       "      <th>failed_experiment_container</th>\n",
       "      <th>g_dsi_dg</th>\n",
       "      <th>g_osi_dg</th>\n",
       "      <th>g_osi_sg</th>\n",
       "      <th>...</th>\n",
       "      <th>specimen_id</th>\n",
       "      <th>tfdi_dg</th>\n",
       "      <th>time_to_peak_ns</th>\n",
       "      <th>time_to_peak_sg</th>\n",
       "      <th>tld1_id</th>\n",
       "      <th>tld1_name</th>\n",
       "      <th>tld2_id</th>\n",
       "      <th>tld2_name</th>\n",
       "      <th>tlr1_id</th>\n",
       "      <th>tlr1_name</th>\n",
       "    </tr>\n",
       "  </thead>\n",
       "  <tbody>\n",
       "    <tr>\n",
       "      <th>0</th>\n",
       "      <td>False</td>\n",
       "      <td>VISp</td>\n",
       "      <td>517397327</td>\n",
       "      <td>Scnn1a-Tg3-Cre/wt;Camk2a-tTA/wt;Ai93(TITL-GCaM...</td>\n",
       "      <td>NaN</td>\n",
       "      <td>511498742</td>\n",
       "      <td>False</td>\n",
       "      <td>NaN</td>\n",
       "      <td>NaN</td>\n",
       "      <td>NaN</td>\n",
       "      <td>...</td>\n",
       "      <td>502185555</td>\n",
       "      <td>NaN</td>\n",
       "      <td>NaN</td>\n",
       "      <td>NaN</td>\n",
       "      <td>177837516</td>\n",
       "      <td>Scnn1a-Tg3-Cre</td>\n",
       "      <td>177837320.0</td>\n",
       "      <td>Camk2a-tTA</td>\n",
       "      <td>265943423</td>\n",
       "      <td>Ai93(TITL-GCaMP6f)</td>\n",
       "    </tr>\n",
       "    <tr>\n",
       "      <th>1</th>\n",
       "      <td>False</td>\n",
       "      <td>VISp</td>\n",
       "      <td>517397340</td>\n",
       "      <td>Scnn1a-Tg3-Cre/wt;Camk2a-tTA/wt;Ai93(TITL-GCaM...</td>\n",
       "      <td>1.461268</td>\n",
       "      <td>511498742</td>\n",
       "      <td>False</td>\n",
       "      <td>0.824858</td>\n",
       "      <td>0.901542</td>\n",
       "      <td>NaN</td>\n",
       "      <td>...</td>\n",
       "      <td>502185555</td>\n",
       "      <td>0.333074</td>\n",
       "      <td>NaN</td>\n",
       "      <td>NaN</td>\n",
       "      <td>177837516</td>\n",
       "      <td>Scnn1a-Tg3-Cre</td>\n",
       "      <td>177837320.0</td>\n",
       "      <td>Camk2a-tTA</td>\n",
       "      <td>265943423</td>\n",
       "      <td>Ai93(TITL-GCaMP6f)</td>\n",
       "    </tr>\n",
       "    <tr>\n",
       "      <th>2</th>\n",
       "      <td>False</td>\n",
       "      <td>VISp</td>\n",
       "      <td>517397343</td>\n",
       "      <td>Scnn1a-Tg3-Cre/wt;Camk2a-tTA/wt;Ai93(TITL-GCaM...</td>\n",
       "      <td>NaN</td>\n",
       "      <td>511498742</td>\n",
       "      <td>False</td>\n",
       "      <td>0.812462</td>\n",
       "      <td>0.894923</td>\n",
       "      <td>NaN</td>\n",
       "      <td>...</td>\n",
       "      <td>502185555</td>\n",
       "      <td>0.258131</td>\n",
       "      <td>NaN</td>\n",
       "      <td>NaN</td>\n",
       "      <td>177837516</td>\n",
       "      <td>Scnn1a-Tg3-Cre</td>\n",
       "      <td>177837320.0</td>\n",
       "      <td>Camk2a-tTA</td>\n",
       "      <td>265943423</td>\n",
       "      <td>Ai93(TITL-GCaMP6f)</td>\n",
       "    </tr>\n",
       "    <tr>\n",
       "      <th>3</th>\n",
       "      <td>False</td>\n",
       "      <td>VISp</td>\n",
       "      <td>517397347</td>\n",
       "      <td>Scnn1a-Tg3-Cre/wt;Camk2a-tTA/wt;Ai93(TITL-GCaM...</td>\n",
       "      <td>NaN</td>\n",
       "      <td>511498742</td>\n",
       "      <td>False</td>\n",
       "      <td>0.078742</td>\n",
       "      <td>0.109241</td>\n",
       "      <td>NaN</td>\n",
       "      <td>...</td>\n",
       "      <td>502185555</td>\n",
       "      <td>0.231590</td>\n",
       "      <td>NaN</td>\n",
       "      <td>NaN</td>\n",
       "      <td>177837516</td>\n",
       "      <td>Scnn1a-Tg3-Cre</td>\n",
       "      <td>177837320.0</td>\n",
       "      <td>Camk2a-tTA</td>\n",
       "      <td>265943423</td>\n",
       "      <td>Ai93(TITL-GCaMP6f)</td>\n",
       "    </tr>\n",
       "    <tr>\n",
       "      <th>4</th>\n",
       "      <td>False</td>\n",
       "      <td>VISp</td>\n",
       "      <td>517397353</td>\n",
       "      <td>Scnn1a-Tg3-Cre/wt;Camk2a-tTA/wt;Ai93(TITL-GCaM...</td>\n",
       "      <td>NaN</td>\n",
       "      <td>511498742</td>\n",
       "      <td>False</td>\n",
       "      <td>NaN</td>\n",
       "      <td>NaN</td>\n",
       "      <td>NaN</td>\n",
       "      <td>...</td>\n",
       "      <td>502185555</td>\n",
       "      <td>NaN</td>\n",
       "      <td>NaN</td>\n",
       "      <td>NaN</td>\n",
       "      <td>177837516</td>\n",
       "      <td>Scnn1a-Tg3-Cre</td>\n",
       "      <td>177837320.0</td>\n",
       "      <td>Camk2a-tTA</td>\n",
       "      <td>265943423</td>\n",
       "      <td>Ai93(TITL-GCaMP6f)</td>\n",
       "    </tr>\n",
       "  </tbody>\n",
       "</table>\n",
       "<p>5 rows × 60 columns</p>\n",
       "</div>"
      ],
      "text/plain": [
       "   all_stim  area  cell_specimen_id  \\\n",
       "0     False  VISp         517397327   \n",
       "1     False  VISp         517397340   \n",
       "2     False  VISp         517397343   \n",
       "3     False  VISp         517397347   \n",
       "4     False  VISp         517397353   \n",
       "\n",
       "                                 donor_full_genotype    dsi_dg  \\\n",
       "0  Scnn1a-Tg3-Cre/wt;Camk2a-tTA/wt;Ai93(TITL-GCaM...       NaN   \n",
       "1  Scnn1a-Tg3-Cre/wt;Camk2a-tTA/wt;Ai93(TITL-GCaM...  1.461268   \n",
       "2  Scnn1a-Tg3-Cre/wt;Camk2a-tTA/wt;Ai93(TITL-GCaM...       NaN   \n",
       "3  Scnn1a-Tg3-Cre/wt;Camk2a-tTA/wt;Ai93(TITL-GCaM...       NaN   \n",
       "4  Scnn1a-Tg3-Cre/wt;Camk2a-tTA/wt;Ai93(TITL-GCaM...       NaN   \n",
       "\n",
       "   experiment_container_id  failed_experiment_container  g_dsi_dg  g_osi_dg  \\\n",
       "0                511498742                        False       NaN       NaN   \n",
       "1                511498742                        False  0.824858  0.901542   \n",
       "2                511498742                        False  0.812462  0.894923   \n",
       "3                511498742                        False  0.078742  0.109241   \n",
       "4                511498742                        False       NaN       NaN   \n",
       "\n",
       "   g_osi_sg  ...  specimen_id   tfdi_dg  time_to_peak_ns  time_to_peak_sg  \\\n",
       "0       NaN  ...    502185555       NaN              NaN              NaN   \n",
       "1       NaN  ...    502185555  0.333074              NaN              NaN   \n",
       "2       NaN  ...    502185555  0.258131              NaN              NaN   \n",
       "3       NaN  ...    502185555  0.231590              NaN              NaN   \n",
       "4       NaN  ...    502185555       NaN              NaN              NaN   \n",
       "\n",
       "     tld1_id       tld1_name      tld2_id   tld2_name    tlr1_id  \\\n",
       "0  177837516  Scnn1a-Tg3-Cre  177837320.0  Camk2a-tTA  265943423   \n",
       "1  177837516  Scnn1a-Tg3-Cre  177837320.0  Camk2a-tTA  265943423   \n",
       "2  177837516  Scnn1a-Tg3-Cre  177837320.0  Camk2a-tTA  265943423   \n",
       "3  177837516  Scnn1a-Tg3-Cre  177837320.0  Camk2a-tTA  265943423   \n",
       "4  177837516  Scnn1a-Tg3-Cre  177837320.0  Camk2a-tTA  265943423   \n",
       "\n",
       "            tlr1_name  \n",
       "0  Ai93(TITL-GCaMP6f)  \n",
       "1  Ai93(TITL-GCaMP6f)  \n",
       "2  Ai93(TITL-GCaMP6f)  \n",
       "3  Ai93(TITL-GCaMP6f)  \n",
       "4  Ai93(TITL-GCaMP6f)  \n",
       "\n",
       "[5 rows x 60 columns]"
      ]
     },
     "execution_count": 24,
     "metadata": {},
     "output_type": "execute_result"
    }
   ],
   "source": [
    "cell_specimens.head()"
   ]
  },
  {
   "cell_type": "code",
   "execution_count": 25,
   "id": "2b966f8f-944d-48d1-88cc-1667e0fee1ec",
   "metadata": {
    "tags": []
   },
   "outputs": [
    {
     "data": {
      "text/plain": [
       "63251"
      ]
     },
     "execution_count": 25,
     "metadata": {},
     "output_type": "execute_result"
    }
   ],
   "source": [
    "len(cell_specimens.cell_specimen_id.unique())"
   ]
  },
  {
   "cell_type": "code",
   "execution_count": 11,
   "id": "2b8f1ea5-bb74-493d-990f-1e50d523ffd5",
   "metadata": {
    "tags": []
   },
   "outputs": [
    {
     "name": "stderr",
     "output_type": "stream",
     "text": [
      "2025-08-23 02:19:09,148 allensdk.api.api.retrieve_file_over_http INFO     Downloading URL: http://api.brain-map.org/api/v2/well_known_file_download/514429113\n"
     ]
    }
   ],
   "source": [
    "# Get data from a select session in an experiment container \n",
    "experiment_container_id = 511510736\n",
    "session_id = boc.get_ophys_experiments(experiment_container_ids=[experiment_container_id], stimuli=['natural_scenes'])[0]['id']\n",
    "\n",
    "data_set = boc.get_ophys_experiment_data(ophys_experiment_id=session_id)"
   ]
  },
  {
   "cell_type": "code",
   "execution_count": 26,
   "id": "9b78590a-4cfa-40b7-877a-a1d5091bc99c",
   "metadata": {
    "tags": []
   },
   "outputs": [],
   "source": [
    "# help(data_set)"
   ]
  },
  {
   "cell_type": "code",
   "execution_count": 13,
   "id": "8284ff3c-2bc0-4ed0-b637-e729aec1a0cc",
   "metadata": {
    "tags": []
   },
   "outputs": [
    {
     "data": {
      "text/plain": [
       "174"
      ]
     },
     "execution_count": 13,
     "metadata": {},
     "output_type": "execute_result"
    }
   ],
   "source": [
    "data_set.number_of_cells"
   ]
  },
  {
   "cell_type": "code",
   "execution_count": 14,
   "id": "c6e164d9-c5ce-4eb2-809f-23e8d9a6b6ca",
   "metadata": {},
   "outputs": [],
   "source": [
    "# From data book - defaults are QC'ed "
   ]
  },
  {
   "cell_type": "markdown",
   "id": "7dad6770-ff45-46d4-b779-85cd85ba97d0",
   "metadata": {},
   "source": [
    "<div style=\"background: #DFF0D8; border-radius: 3px; padding: 10px;\">\n",
    "\n",
    "**Exercise**: What stimuli, behaviors, and conditions were applied or recorded in this experiment? "
   ]
  },
  {
   "cell_type": "code",
   "execution_count": 15,
   "id": "cf3aa61a-f6e9-417f-85e5-43620741eda9",
   "metadata": {
    "tags": []
   },
   "outputs": [
    {
     "data": {
      "text/plain": [
       "['drifting_gratings',\n",
       " 'locally_sparse_noise',\n",
       " 'locally_sparse_noise_4deg',\n",
       " 'locally_sparse_noise_8deg',\n",
       " 'natural_movie_one',\n",
       " 'natural_movie_three',\n",
       " 'natural_movie_two',\n",
       " 'natural_scenes',\n",
       " 'spontaneous',\n",
       " 'static_gratings']"
      ]
     },
     "execution_count": 15,
     "metadata": {},
     "output_type": "execute_result"
    }
   ],
   "source": [
    "boc.get_all_stimuli()"
   ]
  },
  {
   "cell_type": "markdown",
   "id": "d792c18d-8f80-461a-9550-67f9263e87eb",
   "metadata": {
    "tags": []
   },
   "source": [
    "<div style=\"background: #DFF0D8; border-radius: 3px; padding: 10px;\">\n",
    "\n",
    "**Exercise**: How long is a session? "
   ]
  },
  {
   "cell_type": "code",
   "execution_count": 16,
   "id": "bcf1f24c-0850-4962-a695-b42f471adbb6",
   "metadata": {
    "tags": []
   },
   "outputs": [
    {
     "data": {
      "text/plain": [
       "63.10869916666666"
      ]
     },
     "execution_count": 16,
     "metadata": {},
     "output_type": "execute_result"
    }
   ],
   "source": [
    "ts, dff = data_set.get_dff_traces() \n",
    "\n",
    "(ts[-1] - ts[0])/60"
   ]
  },
  {
   "cell_type": "markdown",
   "id": "cbe8d023-a9c7-4293-a235-aae663b40a3f",
   "metadata": {
    "tags": []
   },
   "source": [
    "<div style=\"background: #DFF0D8; border-radius: 3px; padding: 10px;\">\n",
    "\n",
    "**Exercise**: What is the sampling rate? "
   ]
  },
  {
   "cell_type": "code",
   "execution_count": 17,
   "id": "3860740c-0b51-4bca-b41a-34eaf71826fb",
   "metadata": {
    "tags": []
   },
   "outputs": [
    {
     "data": {
      "text/plain": [
       "{'sex': 'male',\n",
       " 'targeted_structure': 'VISp',\n",
       " 'ophys_experiment_id': 501559087,\n",
       " 'experiment_container_id': 511510736,\n",
       " 'excitation_lambda': '910 nanometers',\n",
       " 'indicator': 'GCaMP6f',\n",
       " 'fov': '400x400 microns (512 x 512 pixels)',\n",
       " 'genotype': 'Cux2-CreERT2/wt;Camk2a-tTA/wt;Ai93(TITL-GCaMP6f)/Ai93(TITL-GCaMP6f)',\n",
       " 'session_start_time': datetime.datetime(2016, 2, 4, 10, 25, 24),\n",
       " 'session_type': 'three_session_B',\n",
       " 'specimen_name': 'Cux2-CreERT2;Camk2a-tTA;Ai93-222426',\n",
       " 'cre_line': 'Cux2-CreERT2/wt',\n",
       " 'imaging_depth_um': 175,\n",
       " 'age_days': 104,\n",
       " 'device': 'Nikon A1R-MP multiphoton microscope',\n",
       " 'device_name': 'CAM2P.2',\n",
       " 'pipeline_version': '3.0'}"
      ]
     },
     "execution_count": 17,
     "metadata": {},
     "output_type": "execute_result"
    }
   ],
   "source": [
    "data_set.get_metadata()\n",
    "\n",
    "# From data book 31 Hz? "
   ]
  },
  {
   "cell_type": "markdown",
   "id": "00cd88d8-e108-42cd-a5a0-0fd317e622e8",
   "metadata": {},
   "source": [
    "<div style=\"background: #DFF0D8; border-radius: 3px; padding: 10px;\">\n",
    "\n",
    "**Exercise**: Did the mice receive behavior training before recording sessions? Are the sessions longitudinal? \n",
    "    \n",
    "You might need to infer this by looking at the entire dataset, looking within the NWB files, and reading the Data Book. "
   ]
  },
  {
   "cell_type": "markdown",
   "id": "d8ce3fb0-306b-4f03-b07b-3e21c0e2991c",
   "metadata": {},
   "source": [
    "Refer to data book, assume habituation. Sometimes recordings from multiple FOVs in an animal. "
   ]
  }
 ],
 "metadata": {
  "kernelspec": {
   "display_name": "Python 3 (ipykernel)",
   "language": "python",
   "name": "python3"
  },
  "language_info": {
   "codemirror_mode": {
    "name": "ipython",
    "version": 3
   },
   "file_extension": ".py",
   "mimetype": "text/x-python",
   "name": "python",
   "nbconvert_exporter": "python",
   "pygments_lexer": "ipython3",
   "version": "3.9.12"
  }
 },
 "nbformat": 4,
 "nbformat_minor": 5
}
