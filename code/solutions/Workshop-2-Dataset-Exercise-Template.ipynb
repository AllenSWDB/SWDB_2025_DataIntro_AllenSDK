{
 "cells": [
  {
   "cell_type": "code",
   "execution_count": null,
   "id": "95c1a3c8-4900-4a5f-9c6d-6f748da92f1b",
   "metadata": {
    "tags": []
   },
   "outputs": [],
   "source": [
    "# general imports \n",
    "import allensdk\n",
    "import numpy as np\n",
    "import matplotlib.pyplot as plt\n",
    "%matplotlib inline "
   ]
  },
  {
   "cell_type": "code",
   "execution_count": 4,
   "id": "8a38aa5e-f171-4c30-bc1c-3606aa0bb97a",
   "metadata": {
    "tags": []
   },
   "outputs": [
    {
     "name": "stdout",
     "output_type": "stream",
     "text": [
      "data directory set to /data/\n"
     ]
    }
   ],
   "source": [
    "# set data path\n",
    "import sys\n",
    "import platform\n",
    "from os.path import join as pjoin\n",
    "\n",
    "platstring = platform.platform()\n",
    "system = platform.system()\n",
    "if system == \"Darwin\":\n",
    "    # macOS\n",
    "    data_dir = \"/Volumes/Brain2025/\"\n",
    "elif system == \"Windows\":\n",
    "    # Windows (replace with the drive letter of USB drive)\n",
    "    data_dir = \"E:/\"\n",
    "elif \"amzn\" in platstring:\n",
    "    # then on CodeOcean\n",
    "    data_dir = \"/data/\"\n",
    "else:\n",
    "    # then your own linux platform\n",
    "    # EDIT location where you mounted hard drive\n",
    "    data_dir = \"/media/$USERNAME/Brain2025/\"\n",
    "    \n",
    "print('data directory set to', data_dir)"
   ]
  },
  {
   "cell_type": "code",
   "execution_count": 5,
   "id": "65c41f87-c295-4198-bb9c-6568a8c18b2e",
   "metadata": {
    "tags": []
   },
   "outputs": [
    {
     "name": "stderr",
     "output_type": "stream",
     "text": [
      "/opt/conda/lib/python3.9/site-packages/allensdk/api/cloud_cache/cloud_cache.py:439: MissingLocalManifestWarning: This cache directory appears to contain data files, but it has no record of what those files are. You might want to consider running\n",
      "\n",
      "NaturalMovieOneCache.construct_local_manifest()\n",
      "\n",
      "to avoid needlessly downloading duplicates of data files that did not change between data releases. NOTE: running this method will require hashing every data file you have currently downloaded and could be very time consuming.\n",
      "\n",
      "To avoid this warning in the future, make sure that\n",
      "\n",
      "/data/resources/_downloaded_data.json\n",
      "\n",
      "is not deleted between instantiations of this cache\n",
      "  warnings.warn(msg, MissingLocalManifestWarning)\n",
      "/opt/conda/lib/python3.9/site-packages/allensdk/brain_observatory/behavior/behavior_project_cache/behavior_project_cache.py:135: UpdatedStimulusPresentationTableWarning: \n",
      "\tAs of AllenSDK version 2.16.0, the latest Visual Behavior Ophys data has been significantly updated from previous releases. Specifically the user will need to update all processing of the stimulus_presentations tables. These tables now include multiple stimulus types delineated by the columns `stimulus_block` and `stimulus_block_name`.\n",
      "\n",
      "The data that was available in previous releases are stored in the block name containing 'change_detection' and can be accessed in the pandas table by using: \n",
      "\t`stimulus_presentations[stimulus_presentations.stimulus_block_name.str.contains('change_detection')]`\n",
      "  warnings.warn(\n"
     ]
    }
   ],
   "source": [
    "# import behavior project cache class to load the data\n",
    "from allensdk.brain_observatory.behavior.behavior_project_cache import VisualBehaviorOphysProjectCache\n",
    "\n",
    "cache = VisualBehaviorOphysProjectCache.from_local_cache(\n",
    "            cache_dir=data_dir, use_static_cache=True)"
   ]
  },
  {
   "cell_type": "markdown",
   "id": "eb67262a-7ef7-4d0a-afa5-2879020afd6d",
   "metadata": {},
   "source": [
    "<div style=\"background: #DFF0D8; border-radius: 3px; padding: 10px;\">\n",
    "\n",
    "**Exercise:** What modality was used?\n",
    "</div>"
   ]
  },
  {
   "cell_type": "markdown",
   "id": "e9778fe9-b024-454b-b87a-751a73860b4c",
   "metadata": {
    "tags": []
   },
   "source": [
    "(infer from dataset / data book) \n",
    "optical physiology "
   ]
  },
  {
   "cell_type": "markdown",
   "id": "a9764ec5-0f9a-4f49-8900-f63cc80fa64a",
   "metadata": {},
   "source": [
    "Load relevant metadata tables (experiment and ophys and merge) "
   ]
  },
  {
   "cell_type": "code",
   "execution_count": 42,
   "id": "45885ce2-9a97-455e-af4a-7c95ecc1eca5",
   "metadata": {
    "tags": []
   },
   "outputs": [
    {
     "data": {
      "text/html": [
       "<div>\n",
       "<style scoped>\n",
       "    .dataframe tbody tr th:only-of-type {\n",
       "        vertical-align: middle;\n",
       "    }\n",
       "\n",
       "    .dataframe tbody tr th {\n",
       "        vertical-align: top;\n",
       "    }\n",
       "\n",
       "    .dataframe thead th {\n",
       "        text-align: right;\n",
       "    }\n",
       "</style>\n",
       "<table border=\"1\" class=\"dataframe\">\n",
       "  <thead>\n",
       "    <tr style=\"text-align: right;\">\n",
       "      <th></th>\n",
       "      <th>ophys_experiment_id</th>\n",
       "      <th>cell_specimen_id</th>\n",
       "      <th>behavior_session_id</th>\n",
       "      <th>ophys_session_id</th>\n",
       "      <th>ophys_container_id</th>\n",
       "      <th>mouse_id</th>\n",
       "      <th>indicator</th>\n",
       "      <th>full_genotype</th>\n",
       "      <th>driver_line</th>\n",
       "      <th>cre_line</th>\n",
       "      <th>...</th>\n",
       "      <th>passive</th>\n",
       "      <th>experience_level</th>\n",
       "      <th>prior_exposures_to_session_type</th>\n",
       "      <th>prior_exposures_to_image_set</th>\n",
       "      <th>prior_exposures_to_omissions</th>\n",
       "      <th>date_of_acquisition</th>\n",
       "      <th>equipment_name</th>\n",
       "      <th>published_at</th>\n",
       "      <th>isi_experiment_id</th>\n",
       "      <th>file_id</th>\n",
       "    </tr>\n",
       "  </thead>\n",
       "  <tbody>\n",
       "    <tr>\n",
       "      <th>40252</th>\n",
       "      <td>899085531</td>\n",
       "      <td>1086501292</td>\n",
       "      <td>898982250</td>\n",
       "      <td>898870044</td>\n",
       "      <td>895259496</td>\n",
       "      <td>461946</td>\n",
       "      <td>GCaMP6f</td>\n",
       "      <td>Slc17a7-IRES2-Cre/wt;Camk2a-tTA/wt;Ai93(TITL-G...</td>\n",
       "      <td>[Slc17a7-IRES2-Cre, Camk2a-tTA]</td>\n",
       "      <td>Slc17a7-IRES2-Cre</td>\n",
       "      <td>...</td>\n",
       "      <td>False</td>\n",
       "      <td>Familiar</td>\n",
       "      <td>0</td>\n",
       "      <td>11</td>\n",
       "      <td>0</td>\n",
       "      <td>2019-07-02 14:24:58.745000+00:00</td>\n",
       "      <td>CAM2P.5</td>\n",
       "      <td>2021-03-25</td>\n",
       "      <td>872873989</td>\n",
       "      <td>1682</td>\n",
       "    </tr>\n",
       "    <tr>\n",
       "      <th>40253</th>\n",
       "      <td>899085531</td>\n",
       "      <td>1086501147</td>\n",
       "      <td>898982250</td>\n",
       "      <td>898870044</td>\n",
       "      <td>895259496</td>\n",
       "      <td>461946</td>\n",
       "      <td>GCaMP6f</td>\n",
       "      <td>Slc17a7-IRES2-Cre/wt;Camk2a-tTA/wt;Ai93(TITL-G...</td>\n",
       "      <td>[Slc17a7-IRES2-Cre, Camk2a-tTA]</td>\n",
       "      <td>Slc17a7-IRES2-Cre</td>\n",
       "      <td>...</td>\n",
       "      <td>False</td>\n",
       "      <td>Familiar</td>\n",
       "      <td>0</td>\n",
       "      <td>11</td>\n",
       "      <td>0</td>\n",
       "      <td>2019-07-02 14:24:58.745000+00:00</td>\n",
       "      <td>CAM2P.5</td>\n",
       "      <td>2021-03-25</td>\n",
       "      <td>872873989</td>\n",
       "      <td>1682</td>\n",
       "    </tr>\n",
       "    <tr>\n",
       "      <th>40254</th>\n",
       "      <td>899085531</td>\n",
       "      <td>1086500974</td>\n",
       "      <td>898982250</td>\n",
       "      <td>898870044</td>\n",
       "      <td>895259496</td>\n",
       "      <td>461946</td>\n",
       "      <td>GCaMP6f</td>\n",
       "      <td>Slc17a7-IRES2-Cre/wt;Camk2a-tTA/wt;Ai93(TITL-G...</td>\n",
       "      <td>[Slc17a7-IRES2-Cre, Camk2a-tTA]</td>\n",
       "      <td>Slc17a7-IRES2-Cre</td>\n",
       "      <td>...</td>\n",
       "      <td>False</td>\n",
       "      <td>Familiar</td>\n",
       "      <td>0</td>\n",
       "      <td>11</td>\n",
       "      <td>0</td>\n",
       "      <td>2019-07-02 14:24:58.745000+00:00</td>\n",
       "      <td>CAM2P.5</td>\n",
       "      <td>2021-03-25</td>\n",
       "      <td>872873989</td>\n",
       "      <td>1682</td>\n",
       "    </tr>\n",
       "    <tr>\n",
       "      <th>40255</th>\n",
       "      <td>899085531</td>\n",
       "      <td>1086500827</td>\n",
       "      <td>898982250</td>\n",
       "      <td>898870044</td>\n",
       "      <td>895259496</td>\n",
       "      <td>461946</td>\n",
       "      <td>GCaMP6f</td>\n",
       "      <td>Slc17a7-IRES2-Cre/wt;Camk2a-tTA/wt;Ai93(TITL-G...</td>\n",
       "      <td>[Slc17a7-IRES2-Cre, Camk2a-tTA]</td>\n",
       "      <td>Slc17a7-IRES2-Cre</td>\n",
       "      <td>...</td>\n",
       "      <td>False</td>\n",
       "      <td>Familiar</td>\n",
       "      <td>0</td>\n",
       "      <td>11</td>\n",
       "      <td>0</td>\n",
       "      <td>2019-07-02 14:24:58.745000+00:00</td>\n",
       "      <td>CAM2P.5</td>\n",
       "      <td>2021-03-25</td>\n",
       "      <td>872873989</td>\n",
       "      <td>1682</td>\n",
       "    </tr>\n",
       "    <tr>\n",
       "      <th>40256</th>\n",
       "      <td>899085531</td>\n",
       "      <td>1086500516</td>\n",
       "      <td>898982250</td>\n",
       "      <td>898870044</td>\n",
       "      <td>895259496</td>\n",
       "      <td>461946</td>\n",
       "      <td>GCaMP6f</td>\n",
       "      <td>Slc17a7-IRES2-Cre/wt;Camk2a-tTA/wt;Ai93(TITL-G...</td>\n",
       "      <td>[Slc17a7-IRES2-Cre, Camk2a-tTA]</td>\n",
       "      <td>Slc17a7-IRES2-Cre</td>\n",
       "      <td>...</td>\n",
       "      <td>False</td>\n",
       "      <td>Familiar</td>\n",
       "      <td>0</td>\n",
       "      <td>11</td>\n",
       "      <td>0</td>\n",
       "      <td>2019-07-02 14:24:58.745000+00:00</td>\n",
       "      <td>CAM2P.5</td>\n",
       "      <td>2021-03-25</td>\n",
       "      <td>872873989</td>\n",
       "      <td>1682</td>\n",
       "    </tr>\n",
       "  </tbody>\n",
       "</table>\n",
       "<p>5 rows × 32 columns</p>\n",
       "</div>"
      ],
      "text/plain": [
       "       ophys_experiment_id  cell_specimen_id  behavior_session_id  \\\n",
       "40252            899085531        1086501292            898982250   \n",
       "40253            899085531        1086501147            898982250   \n",
       "40254            899085531        1086500974            898982250   \n",
       "40255            899085531        1086500827            898982250   \n",
       "40256            899085531        1086500516            898982250   \n",
       "\n",
       "       ophys_session_id  ophys_container_id mouse_id indicator  \\\n",
       "40252         898870044           895259496   461946   GCaMP6f   \n",
       "40253         898870044           895259496   461946   GCaMP6f   \n",
       "40254         898870044           895259496   461946   GCaMP6f   \n",
       "40255         898870044           895259496   461946   GCaMP6f   \n",
       "40256         898870044           895259496   461946   GCaMP6f   \n",
       "\n",
       "                                           full_genotype  \\\n",
       "40252  Slc17a7-IRES2-Cre/wt;Camk2a-tTA/wt;Ai93(TITL-G...   \n",
       "40253  Slc17a7-IRES2-Cre/wt;Camk2a-tTA/wt;Ai93(TITL-G...   \n",
       "40254  Slc17a7-IRES2-Cre/wt;Camk2a-tTA/wt;Ai93(TITL-G...   \n",
       "40255  Slc17a7-IRES2-Cre/wt;Camk2a-tTA/wt;Ai93(TITL-G...   \n",
       "40256  Slc17a7-IRES2-Cre/wt;Camk2a-tTA/wt;Ai93(TITL-G...   \n",
       "\n",
       "                           driver_line           cre_line  ... passive  \\\n",
       "40252  [Slc17a7-IRES2-Cre, Camk2a-tTA]  Slc17a7-IRES2-Cre  ...   False   \n",
       "40253  [Slc17a7-IRES2-Cre, Camk2a-tTA]  Slc17a7-IRES2-Cre  ...   False   \n",
       "40254  [Slc17a7-IRES2-Cre, Camk2a-tTA]  Slc17a7-IRES2-Cre  ...   False   \n",
       "40255  [Slc17a7-IRES2-Cre, Camk2a-tTA]  Slc17a7-IRES2-Cre  ...   False   \n",
       "40256  [Slc17a7-IRES2-Cre, Camk2a-tTA]  Slc17a7-IRES2-Cre  ...   False   \n",
       "\n",
       "      experience_level  prior_exposures_to_session_type  \\\n",
       "40252         Familiar                                0   \n",
       "40253         Familiar                                0   \n",
       "40254         Familiar                                0   \n",
       "40255         Familiar                                0   \n",
       "40256         Familiar                                0   \n",
       "\n",
       "       prior_exposures_to_image_set prior_exposures_to_omissions  \\\n",
       "40252                            11                            0   \n",
       "40253                            11                            0   \n",
       "40254                            11                            0   \n",
       "40255                            11                            0   \n",
       "40256                            11                            0   \n",
       "\n",
       "                   date_of_acquisition  equipment_name published_at  \\\n",
       "40252 2019-07-02 14:24:58.745000+00:00         CAM2P.5   2021-03-25   \n",
       "40253 2019-07-02 14:24:58.745000+00:00         CAM2P.5   2021-03-25   \n",
       "40254 2019-07-02 14:24:58.745000+00:00         CAM2P.5   2021-03-25   \n",
       "40255 2019-07-02 14:24:58.745000+00:00         CAM2P.5   2021-03-25   \n",
       "40256 2019-07-02 14:24:58.745000+00:00         CAM2P.5   2021-03-25   \n",
       "\n",
       "      isi_experiment_id  file_id  \n",
       "40252         872873989     1682  \n",
       "40253         872873989     1682  \n",
       "40254         872873989     1682  \n",
       "40255         872873989     1682  \n",
       "40256         872873989     1682  \n",
       "\n",
       "[5 rows x 32 columns]"
      ]
     },
     "execution_count": 42,
     "metadata": {},
     "output_type": "execute_result"
    }
   ],
   "source": [
    "ophys_experiments = cache.get_ophys_experiment_table()\n",
    "ophys_cell_table = cache.get_ophys_cells_table()\n",
    "ophys_cell_table = ophys_cell_table.merge(ophys_experiments, on='ophys_experiment_id')\n",
    "\n",
    "\n",
    "filtered_ophys_cells = ophys_cell_table[ophys_cell_table.project_code == 'VisualBehaviorTask1B']\n",
    "filtered_ophys_cells.head()"
   ]
  },
  {
   "cell_type": "markdown",
   "id": "d6ac379e-02bc-4a76-89d1-8f911b30b605",
   "metadata": {
    "tags": []
   },
   "source": [
    "<div style=\"background: #DFF0D8; border-radius: 3px; padding: 10px;\">\n",
    "\n",
    "**Exercise:** How many mice were used in this dataset?\n",
    "</div>"
   ]
  },
  {
   "cell_type": "code",
   "execution_count": 43,
   "id": "765da305-bd41-484e-bf09-d37a59ab07c9",
   "metadata": {
    "tags": []
   },
   "outputs": [
    {
     "data": {
      "text/plain": [
       "Index(['ophys_experiment_id', 'cell_specimen_id', 'behavior_session_id',\n",
       "       'ophys_session_id', 'ophys_container_id', 'mouse_id', 'indicator',\n",
       "       'full_genotype', 'driver_line', 'cre_line', 'reporter_line', 'sex',\n",
       "       'age_in_days', 'imaging_depth', 'targeted_structure',\n",
       "       'targeted_imaging_depth', 'imaging_plane_group', 'project_code',\n",
       "       'session_type', 'session_number', 'image_set', 'behavior_type',\n",
       "       'passive', 'experience_level', 'prior_exposures_to_session_type',\n",
       "       'prior_exposures_to_image_set', 'prior_exposures_to_omissions',\n",
       "       'date_of_acquisition', 'equipment_name', 'published_at',\n",
       "       'isi_experiment_id', 'file_id'],\n",
       "      dtype='object')"
      ]
     },
     "execution_count": 43,
     "metadata": {},
     "output_type": "execute_result"
    }
   ],
   "source": [
    "filtered_ophys_cells.columns"
   ]
  },
  {
   "cell_type": "code",
   "execution_count": 44,
   "id": "c240f993-264c-4108-af86-38971993dac1",
   "metadata": {
    "tags": []
   },
   "outputs": [
    {
     "data": {
      "text/plain": [
       "29"
      ]
     },
     "execution_count": 44,
     "metadata": {},
     "output_type": "execute_result"
    }
   ],
   "source": [
    "len(filtered_ophys_cells.mouse_id.unique())"
   ]
  },
  {
   "cell_type": "markdown",
   "id": "0c7017cb-d673-49bb-93c2-fc8f5204ff14",
   "metadata": {},
   "source": [
    "<div style=\"background: #DFF0D8; border-radius: 3px; padding: 10px;\">\n",
    "\n",
    "**Exercise:** How many sessions? How many sessions per mouse? \n",
    "</div>"
   ]
  },
  {
   "cell_type": "code",
   "execution_count": 45,
   "id": "c275ed8a-7dc0-4b31-b213-616c5b1c4f14",
   "metadata": {
    "tags": []
   },
   "outputs": [
    {
     "data": {
      "text/plain": [
       "199"
      ]
     },
     "execution_count": 45,
     "metadata": {},
     "output_type": "execute_result"
    }
   ],
   "source": [
    "len(filtered_ophys_cells.ophys_session_id.unique())"
   ]
  },
  {
   "cell_type": "markdown",
   "id": "1558d376-6b8f-49e5-ae9e-dc4e8f897eef",
   "metadata": {},
   "source": [
    "<div style=\"background: #DFF0D8; border-radius: 3px; padding: 10px;\">\n",
    "\n",
    "**Exercise:** What transgenic lines were used in this dataset? \n",
    "    \n",
    "What cell types do these transgenic lines target? Refer to the [Data Book](https://allenswdb.github.io/background/transgenic-tools.html) for this. \n",
    "</div>"
   ]
  },
  {
   "cell_type": "code",
   "execution_count": 46,
   "id": "091c81e0-2298-4ef4-977a-e9e3bd78fb5e",
   "metadata": {
    "tags": []
   },
   "outputs": [
    {
     "data": {
      "text/plain": [
       "array(['Slc17a7-IRES2-Cre/wt;Camk2a-tTA/wt;Ai93(TITL-GCaMP6f)/wt',\n",
       "       'Slc17a7-IRES2-Cre/wt;Camk2a-tTA/wt;Ai94(TITL-GCaMP6s)/wt',\n",
       "       'Vip-IRES-Cre/wt;Ai148(TIT2L-GC6f-ICL-tTA2)/wt',\n",
       "       'Sst-IRES-Cre/wt;Ai148(TIT2L-GC6f-ICL-tTA2)/wt'], dtype=object)"
      ]
     },
     "execution_count": 46,
     "metadata": {},
     "output_type": "execute_result"
    }
   ],
   "source": [
    "filtered_ophys_cells.full_genotype.unique()"
   ]
  },
  {
   "cell_type": "markdown",
   "id": "66be6912-24a7-416c-b3cd-2cb34b4bd7a1",
   "metadata": {
    "tags": []
   },
   "source": [
    "<div style=\"background: #DFF0D8; border-radius: 3px; padding: 10px;\">\n",
    "\n",
    "**Exercise:** What structures were targeted? If not in metadata, might need to infer from Data Book or NWB file itself. "
   ]
  },
  {
   "cell_type": "code",
   "execution_count": 47,
   "id": "d76cb2e4-ef24-4dda-adc5-2bad589fafd2",
   "metadata": {
    "tags": []
   },
   "outputs": [
    {
     "data": {
      "text/plain": [
       "array(['VISp'], dtype=object)"
      ]
     },
     "execution_count": 47,
     "metadata": {},
     "output_type": "execute_result"
    }
   ],
   "source": [
    "filtered_ophys_cells.targeted_structure.unique()"
   ]
  },
  {
   "cell_type": "markdown",
   "id": "517ec34d-77fe-4453-a666-ce0c9177417f",
   "metadata": {},
   "source": [
    "<div style=\"background: #DFF0D8; border-radius: 3px; padding: 10px;\">\n",
    "\n",
    "**Exercise**: What units/neurons are available? How many neurons were recorded in this session? Has the data been pre-filtered based on quality control metrics? \n",
    "    "
   ]
  },
  {
   "cell_type": "code",
   "execution_count": 52,
   "id": "bdb4b5a7-1df7-4a92-b78b-d07c354454dc",
   "metadata": {
    "tags": []
   },
   "outputs": [
    {
     "data": {
      "text/plain": [
       "5865"
      ]
     },
     "execution_count": 52,
     "metadata": {},
     "output_type": "execute_result"
    }
   ],
   "source": [
    "len(filtered_ophys_cells.cell_specimen_id.unique())"
   ]
  },
  {
   "cell_type": "code",
   "execution_count": 51,
   "id": "030f7951-4722-49f9-8fc9-5687033daa79",
   "metadata": {
    "tags": []
   },
   "outputs": [
    {
     "name": "stderr",
     "output_type": "stream",
     "text": [
      "/opt/conda/lib/python3.9/site-packages/hdmf/spec/namespace.py:583: UserWarning: Ignoring the following cached namespace(s) because another version is already loaded:\n",
      "core - cached version: 2.6.0-alpha, loaded version: 2.7.0\n",
      "The loaded extension(s) may not be compatible with the cached extension(s) in the file. Please check the extension documentation and ignore this warning if these versions are compatible.\n",
      "  self.warn_for_ignored_namespaces(ignored_namespaces)\n"
     ]
    },
    {
     "data": {
      "text/plain": [
       "array([ True])"
      ]
     },
     "execution_count": 51,
     "metadata": {},
     "output_type": "execute_result"
    }
   ],
   "source": [
    "# select an experiment id from the table \n",
    "ophys_experiment_id = 994790561\n",
    "\n",
    "# load the data for this ophys experiment from the cache\n",
    "ophys_experiment = cache.get_behavior_ophys_experiment(ophys_experiment_id)\n",
    "ophys_experiment.cell_specimen_table.valid_roi.unique()"
   ]
  },
  {
   "cell_type": "markdown",
   "id": "a1abfe5e-3077-4106-977a-fa25b9aa9ba3",
   "metadata": {},
   "source": [
    "All neurons are valid (according to valid_roi), so ~600 cells were recorded in this dataset. "
   ]
  },
  {
   "cell_type": "markdown",
   "id": "ff806faa-1be3-4f4c-a0fa-6fc807ead5f3",
   "metadata": {},
   "source": [
    "<div style=\"background: #DFF0D8; border-radius: 3px; padding: 10px;\">\n",
    "\n",
    "**Exercise**: What stimuli, behaviors, and conditions were applied or recorded in this experiment? "
   ]
  },
  {
   "cell_type": "code",
   "execution_count": null,
   "id": "452d5495-d846-4ed3-8876-593f7fcba622",
   "metadata": {
    "tags": []
   },
   "outputs": [],
   "source": []
  },
  {
   "cell_type": "markdown",
   "id": "eca99556-6135-45a3-b928-fe521dc301b9",
   "metadata": {
    "tags": []
   },
   "source": [
    "<div style=\"background: #DFF0D8; border-radius: 3px; padding: 10px;\">\n",
    "\n",
    "**Exercise**: How long is a session? "
   ]
  },
  {
   "cell_type": "code",
   "execution_count": null,
   "id": "e609c0e7-45d4-4fe9-aec9-9a09136b74db",
   "metadata": {
    "tags": []
   },
   "outputs": [],
   "source": []
  },
  {
   "cell_type": "markdown",
   "id": "4f36159c-b894-4546-88f4-7e2fb28a4b5b",
   "metadata": {},
   "source": [
    "<div style=\"background: #DFF0D8; border-radius: 3px; padding: 10px;\">\n",
    "\n",
    "**Exercise**: What is the sampling rate? \n"
   ]
  },
  {
   "cell_type": "code",
   "execution_count": null,
   "id": "23b7de78-1a3d-4acb-821e-f665343bb432",
   "metadata": {
    "tags": []
   },
   "outputs": [],
   "source": []
  },
  {
   "cell_type": "markdown",
   "id": "3354b1d8-835f-4a97-9106-da946d8c6da2",
   "metadata": {},
   "source": [
    "<div style=\"background: #DFF0D8; border-radius: 3px; padding: 10px;\">\n",
    "\n",
    "**Exercise**: Did the mice receive behavior training before recording sessions? Are the sessions longitudinal? \n",
    "    \n",
    "You might need to infer this by looking at the entire dataset, looking within the NWB files, and reading the Data Book. "
   ]
  },
  {
   "cell_type": "code",
   "execution_count": null,
   "id": "87579d8c-12b4-43d8-868d-5f9420ef2a5a",
   "metadata": {},
   "outputs": [],
   "source": []
  }
 ],
 "metadata": {
  "kernelspec": {
   "display_name": "Python 3 (ipykernel)",
   "language": "python",
   "name": "python3"
  },
  "language_info": {
   "codemirror_mode": {
    "name": "ipython",
    "version": 3
   },
   "file_extension": ".py",
   "mimetype": "text/x-python",
   "name": "python",
   "nbconvert_exporter": "python",
   "pygments_lexer": "ipython3",
   "version": "3.9.12"
  }
 },
 "nbformat": 4,
 "nbformat_minor": 5
}
