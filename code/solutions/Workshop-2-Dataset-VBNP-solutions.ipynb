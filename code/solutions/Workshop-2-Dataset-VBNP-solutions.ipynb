{
 "cells": [
  {
   "cell_type": "code",
   "execution_count": 1,
   "id": "95c1a3c8-4900-4a5f-9c6d-6f748da92f1b",
   "metadata": {
    "tags": []
   },
   "outputs": [],
   "source": [
    "# general imports \n",
    "import allensdk\n",
    "import numpy as np\n",
    "import matplotlib.pyplot as plt\n",
    "%matplotlib inline "
   ]
  },
  {
   "cell_type": "code",
   "execution_count": 2,
   "id": "8a38aa5e-f171-4c30-bc1c-3606aa0bb97a",
   "metadata": {
    "tags": []
   },
   "outputs": [
    {
     "name": "stdout",
     "output_type": "stream",
     "text": [
      "data directory set to /data/\n"
     ]
    }
   ],
   "source": [
    "# set data path\n",
    "import sys\n",
    "import platform\n",
    "from os.path import join as pjoin\n",
    "\n",
    "platstring = platform.platform()\n",
    "system = platform.system()\n",
    "if system == \"Darwin\":\n",
    "    # macOS\n",
    "    data_dir = \"/Volumes/Brain2025/\"\n",
    "elif system == \"Windows\":\n",
    "    # Windows (replace with the drive letter of USB drive)\n",
    "    data_dir = \"E:/\"\n",
    "elif \"amzn\" in platstring:\n",
    "    # then on CodeOcean\n",
    "    data_dir = \"/data/\"\n",
    "else:\n",
    "    # then your own linux platform\n",
    "    # EDIT location where you mounted hard drive\n",
    "    data_dir = \"/media/$USERNAME/Brain2025/\"\n",
    "    \n",
    "print('data directory set to', data_dir)"
   ]
  },
  {
   "cell_type": "code",
   "execution_count": 3,
   "id": "65c41f87-c295-4198-bb9c-6568a8c18b2e",
   "metadata": {
    "tags": []
   },
   "outputs": [
    {
     "name": "stderr",
     "output_type": "stream",
     "text": [
      "/opt/conda/lib/python3.9/site-packages/tqdm/auto.py:22: TqdmWarning: IProgress not found. Please update jupyter and ipywidgets. See https://ipywidgets.readthedocs.io/en/stable/user_install.html\n",
      "  from .autonotebook import tqdm as notebook_tqdm\n",
      "/opt/conda/lib/python3.9/site-packages/allensdk/api/cloud_cache/cloud_cache.py:439: MissingLocalManifestWarning: This cache directory appears to contain data files, but it has no record of what those files are. You might want to consider running\n",
      "\n",
      "NaturalMovieOneCache.construct_local_manifest()\n",
      "\n",
      "to avoid needlessly downloading duplicates of data files that did not change between data releases. NOTE: running this method will require hashing every data file you have currently downloaded and could be very time consuming.\n",
      "\n",
      "To avoid this warning in the future, make sure that\n",
      "\n",
      "/data/resources/_downloaded_data.json\n",
      "\n",
      "is not deleted between instantiations of this cache\n",
      "  warnings.warn(msg, MissingLocalManifestWarning)\n",
      "/opt/conda/lib/python3.9/site-packages/allensdk/brain_observatory/behavior/behavior_project_cache/behavior_project_cache.py:135: UpdatedStimulusPresentationTableWarning: \n",
      "\tAs of AllenSDK version 2.16.0, the latest Visual Behavior Ophys data has been significantly updated from previous releases. Specifically the user will need to update all processing of the stimulus_presentations tables. These tables now include multiple stimulus types delineated by the columns `stimulus_block` and `stimulus_block_name`.\n",
      "\n",
      "The data that was available in previous releases are stored in the block name containing 'change_detection' and can be accessed in the pandas table by using: \n",
      "\t`stimulus_presentations[stimulus_presentations.stimulus_block_name.str.contains('change_detection')]`\n",
      "  warnings.warn(\n"
     ]
    }
   ],
   "source": [
    "# import behavior project cache class to load the data\n",
    "from allensdk.brain_observatory.behavior.behavior_project_cache import VisualBehaviorOphysProjectCache\n",
    "\n",
    "cache = VisualBehaviorOphysProjectCache.from_local_cache(\n",
    "            cache_dir=data_dir, use_static_cache=True)"
   ]
  },
  {
   "cell_type": "markdown",
   "id": "eb67262a-7ef7-4d0a-afa5-2879020afd6d",
   "metadata": {},
   "source": [
    "<div style=\"background: #DFF0D8; border-radius: 3px; padding: 10px;\">\n",
    "\n",
    "**Exercise:** What modality was used?\n",
    "</div>"
   ]
  },
  {
   "cell_type": "markdown",
   "id": "e9778fe9-b024-454b-b87a-751a73860b4c",
   "metadata": {
    "tags": []
   },
   "source": [
    "(infer from dataset / data book) \n",
    "optical physiology "
   ]
  },
  {
   "cell_type": "markdown",
   "id": "d6ac379e-02bc-4a76-89d1-8f911b30b605",
   "metadata": {
    "tags": []
   },
   "source": [
    "<div style=\"background: #DFF0D8; border-radius: 3px; padding: 10px;\">\n",
    "\n",
    "**Exercise:** How many mice were used in this dataset?\n",
    "</div>"
   ]
  },
  {
   "cell_type": "code",
   "execution_count": 58,
   "id": "45885ce2-9a97-455e-af4a-7c95ecc1eca5",
   "metadata": {
    "tags": []
   },
   "outputs": [
    {
     "data": {
      "text/html": [
       "<div>\n",
       "<style scoped>\n",
       "    .dataframe tbody tr th:only-of-type {\n",
       "        vertical-align: middle;\n",
       "    }\n",
       "\n",
       "    .dataframe tbody tr th {\n",
       "        vertical-align: top;\n",
       "    }\n",
       "\n",
       "    .dataframe thead th {\n",
       "        text-align: right;\n",
       "    }\n",
       "</style>\n",
       "<table border=\"1\" class=\"dataframe\">\n",
       "  <thead>\n",
       "    <tr style=\"text-align: right;\">\n",
       "      <th></th>\n",
       "      <th>ophys_experiment_id</th>\n",
       "      <th>cell_specimen_id</th>\n",
       "      <th>behavior_session_id</th>\n",
       "      <th>ophys_session_id</th>\n",
       "      <th>ophys_container_id</th>\n",
       "      <th>mouse_id</th>\n",
       "      <th>indicator</th>\n",
       "      <th>full_genotype</th>\n",
       "      <th>driver_line</th>\n",
       "      <th>cre_line</th>\n",
       "      <th>...</th>\n",
       "      <th>passive</th>\n",
       "      <th>experience_level</th>\n",
       "      <th>prior_exposures_to_session_type</th>\n",
       "      <th>prior_exposures_to_image_set</th>\n",
       "      <th>prior_exposures_to_omissions</th>\n",
       "      <th>date_of_acquisition</th>\n",
       "      <th>equipment_name</th>\n",
       "      <th>published_at</th>\n",
       "      <th>isi_experiment_id</th>\n",
       "      <th>file_id</th>\n",
       "    </tr>\n",
       "  </thead>\n",
       "  <tbody>\n",
       "    <tr>\n",
       "      <th>62169</th>\n",
       "      <td>959389424</td>\n",
       "      <td>1120053160</td>\n",
       "      <td>959014180</td>\n",
       "      <td>958905696</td>\n",
       "      <td>1018027721</td>\n",
       "      <td>472271</td>\n",
       "      <td>GCaMP6f</td>\n",
       "      <td>Slc17a7-IRES2-Cre/wt;Camk2a-tTA/wt;Ai93(TITL-G...</td>\n",
       "      <td>[Slc17a7-IRES2-Cre, Camk2a-tTA]</td>\n",
       "      <td>Slc17a7-IRES2-Cre</td>\n",
       "      <td>...</td>\n",
       "      <td>False</td>\n",
       "      <td>Familiar</td>\n",
       "      <td>0</td>\n",
       "      <td>15</td>\n",
       "      <td>0</td>\n",
       "      <td>2019-10-01 11:59:27.955000+00:00</td>\n",
       "      <td>MESO.1</td>\n",
       "      <td>2021-08-12</td>\n",
       "      <td>910867827</td>\n",
       "      <td>1355</td>\n",
       "    </tr>\n",
       "    <tr>\n",
       "      <th>62170</th>\n",
       "      <td>959389424</td>\n",
       "      <td>1120053072</td>\n",
       "      <td>959014180</td>\n",
       "      <td>958905696</td>\n",
       "      <td>1018027721</td>\n",
       "      <td>472271</td>\n",
       "      <td>GCaMP6f</td>\n",
       "      <td>Slc17a7-IRES2-Cre/wt;Camk2a-tTA/wt;Ai93(TITL-G...</td>\n",
       "      <td>[Slc17a7-IRES2-Cre, Camk2a-tTA]</td>\n",
       "      <td>Slc17a7-IRES2-Cre</td>\n",
       "      <td>...</td>\n",
       "      <td>False</td>\n",
       "      <td>Familiar</td>\n",
       "      <td>0</td>\n",
       "      <td>15</td>\n",
       "      <td>0</td>\n",
       "      <td>2019-10-01 11:59:27.955000+00:00</td>\n",
       "      <td>MESO.1</td>\n",
       "      <td>2021-08-12</td>\n",
       "      <td>910867827</td>\n",
       "      <td>1355</td>\n",
       "    </tr>\n",
       "    <tr>\n",
       "      <th>62171</th>\n",
       "      <td>959389424</td>\n",
       "      <td>1120052989</td>\n",
       "      <td>959014180</td>\n",
       "      <td>958905696</td>\n",
       "      <td>1018027721</td>\n",
       "      <td>472271</td>\n",
       "      <td>GCaMP6f</td>\n",
       "      <td>Slc17a7-IRES2-Cre/wt;Camk2a-tTA/wt;Ai93(TITL-G...</td>\n",
       "      <td>[Slc17a7-IRES2-Cre, Camk2a-tTA]</td>\n",
       "      <td>Slc17a7-IRES2-Cre</td>\n",
       "      <td>...</td>\n",
       "      <td>False</td>\n",
       "      <td>Familiar</td>\n",
       "      <td>0</td>\n",
       "      <td>15</td>\n",
       "      <td>0</td>\n",
       "      <td>2019-10-01 11:59:27.955000+00:00</td>\n",
       "      <td>MESO.1</td>\n",
       "      <td>2021-08-12</td>\n",
       "      <td>910867827</td>\n",
       "      <td>1355</td>\n",
       "    </tr>\n",
       "    <tr>\n",
       "      <th>62172</th>\n",
       "      <td>959389424</td>\n",
       "      <td>1120052947</td>\n",
       "      <td>959014180</td>\n",
       "      <td>958905696</td>\n",
       "      <td>1018027721</td>\n",
       "      <td>472271</td>\n",
       "      <td>GCaMP6f</td>\n",
       "      <td>Slc17a7-IRES2-Cre/wt;Camk2a-tTA/wt;Ai93(TITL-G...</td>\n",
       "      <td>[Slc17a7-IRES2-Cre, Camk2a-tTA]</td>\n",
       "      <td>Slc17a7-IRES2-Cre</td>\n",
       "      <td>...</td>\n",
       "      <td>False</td>\n",
       "      <td>Familiar</td>\n",
       "      <td>0</td>\n",
       "      <td>15</td>\n",
       "      <td>0</td>\n",
       "      <td>2019-10-01 11:59:27.955000+00:00</td>\n",
       "      <td>MESO.1</td>\n",
       "      <td>2021-08-12</td>\n",
       "      <td>910867827</td>\n",
       "      <td>1355</td>\n",
       "    </tr>\n",
       "    <tr>\n",
       "      <th>62173</th>\n",
       "      <td>959389424</td>\n",
       "      <td>1120051650</td>\n",
       "      <td>959014180</td>\n",
       "      <td>958905696</td>\n",
       "      <td>1018027721</td>\n",
       "      <td>472271</td>\n",
       "      <td>GCaMP6f</td>\n",
       "      <td>Slc17a7-IRES2-Cre/wt;Camk2a-tTA/wt;Ai93(TITL-G...</td>\n",
       "      <td>[Slc17a7-IRES2-Cre, Camk2a-tTA]</td>\n",
       "      <td>Slc17a7-IRES2-Cre</td>\n",
       "      <td>...</td>\n",
       "      <td>False</td>\n",
       "      <td>Familiar</td>\n",
       "      <td>0</td>\n",
       "      <td>15</td>\n",
       "      <td>0</td>\n",
       "      <td>2019-10-01 11:59:27.955000+00:00</td>\n",
       "      <td>MESO.1</td>\n",
       "      <td>2021-08-12</td>\n",
       "      <td>910867827</td>\n",
       "      <td>1355</td>\n",
       "    </tr>\n",
       "  </tbody>\n",
       "</table>\n",
       "<p>5 rows × 32 columns</p>\n",
       "</div>"
      ],
      "text/plain": [
       "       ophys_experiment_id  cell_specimen_id  behavior_session_id  \\\n",
       "62169            959389424        1120053160            959014180   \n",
       "62170            959389424        1120053072            959014180   \n",
       "62171            959389424        1120052989            959014180   \n",
       "62172            959389424        1120052947            959014180   \n",
       "62173            959389424        1120051650            959014180   \n",
       "\n",
       "       ophys_session_id  ophys_container_id mouse_id indicator  \\\n",
       "62169         958905696          1018027721   472271   GCaMP6f   \n",
       "62170         958905696          1018027721   472271   GCaMP6f   \n",
       "62171         958905696          1018027721   472271   GCaMP6f   \n",
       "62172         958905696          1018027721   472271   GCaMP6f   \n",
       "62173         958905696          1018027721   472271   GCaMP6f   \n",
       "\n",
       "                                           full_genotype  \\\n",
       "62169  Slc17a7-IRES2-Cre/wt;Camk2a-tTA/wt;Ai93(TITL-G...   \n",
       "62170  Slc17a7-IRES2-Cre/wt;Camk2a-tTA/wt;Ai93(TITL-G...   \n",
       "62171  Slc17a7-IRES2-Cre/wt;Camk2a-tTA/wt;Ai93(TITL-G...   \n",
       "62172  Slc17a7-IRES2-Cre/wt;Camk2a-tTA/wt;Ai93(TITL-G...   \n",
       "62173  Slc17a7-IRES2-Cre/wt;Camk2a-tTA/wt;Ai93(TITL-G...   \n",
       "\n",
       "                           driver_line           cre_line  ... passive  \\\n",
       "62169  [Slc17a7-IRES2-Cre, Camk2a-tTA]  Slc17a7-IRES2-Cre  ...   False   \n",
       "62170  [Slc17a7-IRES2-Cre, Camk2a-tTA]  Slc17a7-IRES2-Cre  ...   False   \n",
       "62171  [Slc17a7-IRES2-Cre, Camk2a-tTA]  Slc17a7-IRES2-Cre  ...   False   \n",
       "62172  [Slc17a7-IRES2-Cre, Camk2a-tTA]  Slc17a7-IRES2-Cre  ...   False   \n",
       "62173  [Slc17a7-IRES2-Cre, Camk2a-tTA]  Slc17a7-IRES2-Cre  ...   False   \n",
       "\n",
       "      experience_level  prior_exposures_to_session_type  \\\n",
       "62169         Familiar                                0   \n",
       "62170         Familiar                                0   \n",
       "62171         Familiar                                0   \n",
       "62172         Familiar                                0   \n",
       "62173         Familiar                                0   \n",
       "\n",
       "       prior_exposures_to_image_set prior_exposures_to_omissions  \\\n",
       "62169                            15                            0   \n",
       "62170                            15                            0   \n",
       "62171                            15                            0   \n",
       "62172                            15                            0   \n",
       "62173                            15                            0   \n",
       "\n",
       "                   date_of_acquisition  equipment_name published_at  \\\n",
       "62169 2019-10-01 11:59:27.955000+00:00          MESO.1   2021-08-12   \n",
       "62170 2019-10-01 11:59:27.955000+00:00          MESO.1   2021-08-12   \n",
       "62171 2019-10-01 11:59:27.955000+00:00          MESO.1   2021-08-12   \n",
       "62172 2019-10-01 11:59:27.955000+00:00          MESO.1   2021-08-12   \n",
       "62173 2019-10-01 11:59:27.955000+00:00          MESO.1   2021-08-12   \n",
       "\n",
       "      isi_experiment_id  file_id  \n",
       "62169         910867827     1355  \n",
       "62170         910867827     1355  \n",
       "62171         910867827     1355  \n",
       "62172         910867827     1355  \n",
       "62173         910867827     1355  \n",
       "\n",
       "[5 rows x 32 columns]"
      ]
     },
     "execution_count": 58,
     "metadata": {},
     "output_type": "execute_result"
    }
   ],
   "source": [
    "# Load relevant metadata tables (experiment and ophys and merge the two) \n",
    "ophys_experiments = cache.get_ophys_experiment_table()\n",
    "ophys_cell_table = cache.get_ophys_cells_table()\n",
    "ophys_cell_table = ophys_cell_table.merge(ophys_experiments, on='ophys_experiment_id')\n",
    "\n",
    "\n",
    "filtered_ophys_cells = ophys_cell_table[ophys_cell_table.project_code == 'VisualBehaviorMultiscope4areasx2d']\n",
    "filtered_ophys_cells.head()"
   ]
  },
  {
   "cell_type": "code",
   "execution_count": 59,
   "id": "765da305-bd41-484e-bf09-d37a59ab07c9",
   "metadata": {
    "tags": []
   },
   "outputs": [
    {
     "data": {
      "text/plain": [
       "17"
      ]
     },
     "execution_count": 59,
     "metadata": {},
     "output_type": "execute_result"
    }
   ],
   "source": [
    "len(filtered_ophys_cells.mouse_id.unique())"
   ]
  },
  {
   "cell_type": "markdown",
   "id": "0c7017cb-d673-49bb-93c2-fc8f5204ff14",
   "metadata": {},
   "source": [
    "<div style=\"background: #DFF0D8; border-radius: 3px; padding: 10px;\">\n",
    "\n",
    "**Exercise:** How many sessions? How many sessions per mouse? \n",
    "</div>"
   ]
  },
  {
   "cell_type": "code",
   "execution_count": 60,
   "id": "c275ed8a-7dc0-4b31-b213-616c5b1c4f14",
   "metadata": {
    "tags": []
   },
   "outputs": [
    {
     "data": {
      "text/plain": [
       "103"
      ]
     },
     "execution_count": 60,
     "metadata": {},
     "output_type": "execute_result"
    }
   ],
   "source": [
    "len(filtered_ophys_cells.ophys_session_id.unique())"
   ]
  },
  {
   "cell_type": "code",
   "execution_count": 64,
   "id": "dbf99751-1c19-4d8f-ab6b-34f2f3e810dc",
   "metadata": {
    "tags": []
   },
   "outputs": [
    {
     "data": {
      "text/plain": [
       "6"
      ]
     },
     "execution_count": 64,
     "metadata": {},
     "output_type": "execute_result"
    }
   ],
   "source": [
    "select_mouse_id = filtered_ophys_cells.mouse_id.unique()[0]\n",
    "\n",
    "len(filtered_ophys_cells[filtered_ophys_cells.mouse_id == select_mouse_id].ophys_session_id.unique())"
   ]
  },
  {
   "cell_type": "markdown",
   "id": "1558d376-6b8f-49e5-ae9e-dc4e8f897eef",
   "metadata": {},
   "source": [
    "<div style=\"background: #DFF0D8; border-radius: 3px; padding: 10px;\">\n",
    "\n",
    "**Exercise:** What transgenic lines were used in this dataset? \n",
    "    \n",
    "What cell types do these transgenic lines target? Refer to the [Data Book](https://allenswdb.github.io/background/transgenic-tools.html) for this. \n",
    "</div>"
   ]
  },
  {
   "cell_type": "code",
   "execution_count": 65,
   "id": "091c81e0-2298-4ef4-977a-e9e3bd78fb5e",
   "metadata": {
    "tags": []
   },
   "outputs": [
    {
     "data": {
      "text/plain": [
       "array(['Slc17a7-IRES2-Cre/wt;Camk2a-tTA/wt;Ai93(TITL-GCaMP6f)/wt',\n",
       "       'Sst-IRES-Cre/wt;Ai148(TIT2L-GC6f-ICL-tTA2)/wt',\n",
       "       'Vip-IRES-Cre/wt;Ai148(TIT2L-GC6f-ICL-tTA2)/wt'], dtype=object)"
      ]
     },
     "execution_count": 65,
     "metadata": {},
     "output_type": "execute_result"
    }
   ],
   "source": [
    "filtered_ophys_cells.full_genotype.unique()"
   ]
  },
  {
   "cell_type": "markdown",
   "id": "66be6912-24a7-416c-b3cd-2cb34b4bd7a1",
   "metadata": {
    "tags": []
   },
   "source": [
    "<div style=\"background: #DFF0D8; border-radius: 3px; padding: 10px;\">\n",
    "\n",
    "**Exercise:** What structures were targeted? If not in metadata, might need to infer from Data Book or NWB file itself. "
   ]
  },
  {
   "cell_type": "code",
   "execution_count": 66,
   "id": "d76cb2e4-ef24-4dda-adc5-2bad589fafd2",
   "metadata": {
    "tags": []
   },
   "outputs": [
    {
     "data": {
      "text/plain": [
       "array(['VISp', 'VISl', 'VISal', 'VISam'], dtype=object)"
      ]
     },
     "execution_count": 66,
     "metadata": {},
     "output_type": "execute_result"
    }
   ],
   "source": [
    "filtered_ophys_cells.targeted_structure.unique()"
   ]
  },
  {
   "cell_type": "markdown",
   "id": "517ec34d-77fe-4453-a666-ce0c9177417f",
   "metadata": {},
   "source": [
    "<div style=\"background: #DFF0D8; border-radius: 3px; padding: 10px;\">\n",
    "\n",
    "**Exercise**: What units/neurons are available? How many neurons were recorded in this session? Has the data been pre-filtered based on quality control metrics? \n",
    "    "
   ]
  },
  {
   "cell_type": "code",
   "execution_count": 67,
   "id": "bdb4b5a7-1df7-4a92-b78b-d07c354454dc",
   "metadata": {
    "tags": []
   },
   "outputs": [
    {
     "data": {
      "text/plain": [
       "11254"
      ]
     },
     "execution_count": 67,
     "metadata": {},
     "output_type": "execute_result"
    }
   ],
   "source": [
    "# Get total neurons recorded in this dataset \n",
    "len(filtered_ophys_cells.cell_specimen_id.unique())"
   ]
  },
  {
   "cell_type": "code",
   "execution_count": 69,
   "id": "030f7951-4722-49f9-8fc9-5687033daa79",
   "metadata": {
    "tags": []
   },
   "outputs": [
    {
     "name": "stderr",
     "output_type": "stream",
     "text": [
      "/opt/conda/lib/python3.9/site-packages/hdmf/spec/namespace.py:583: UserWarning: Ignoring the following cached namespace(s) because another version is already loaded:\n",
      "core - cached version: 2.6.0-alpha, loaded version: 2.7.0\n",
      "The loaded extension(s) may not be compatible with the cached extension(s) in the file. Please check the extension documentation and ignore this warning if these versions are compatible.\n",
      "  self.warn_for_ignored_namespaces(ignored_namespaces)\n"
     ]
    },
    {
     "data": {
      "text/plain": [
       "array([ True])"
      ]
     },
     "execution_count": 69,
     "metadata": {},
     "output_type": "execute_result"
    }
   ],
   "source": [
    "# Assess QC filtering \n",
    "\n",
    "# select an experiment id from the table \n",
    "ophys_experiment_id = 994790561\n",
    "\n",
    "# load the data for this ophys experiment from the cache\n",
    "ophys_experiment = cache.get_behavior_ophys_experiment(ophys_experiment_id)\n",
    "ophys_experiment.cell_specimen_table.valid_roi.unique()"
   ]
  },
  {
   "cell_type": "markdown",
   "id": "a1abfe5e-3077-4106-977a-fa25b9aa9ba3",
   "metadata": {},
   "source": [
    "All neurons are valid (according to valid_roi), so ~5800 cells were recorded in this dataset. "
   ]
  },
  {
   "cell_type": "markdown",
   "id": "ff806faa-1be3-4f4c-a0fa-6fc807ead5f3",
   "metadata": {},
   "source": [
    "<div style=\"background: #DFF0D8; border-radius: 3px; padding: 10px;\">\n",
    "\n",
    "**Exercise**: What stimuli, behaviors, and conditions were applied or recorded in this experiment? "
   ]
  },
  {
   "cell_type": "code",
   "execution_count": 70,
   "id": "452d5495-d846-4ed3-8876-593f7fcba622",
   "metadata": {
    "tags": []
   },
   "outputs": [
    {
     "data": {
      "text/plain": [
       "array(['initial_gray_screen_5min', 'change_detection_behavior',\n",
       "       'post_behavior_gray_screen_5min', 'natural_movie_one'],\n",
       "      dtype=object)"
      ]
     },
     "execution_count": 70,
     "metadata": {},
     "output_type": "execute_result"
    }
   ],
   "source": [
    "stimulus_presentations = ophys_experiment.stimulus_presentations\n",
    "stimulus_presentations.stimulus_block_name.unique()"
   ]
  },
  {
   "cell_type": "markdown",
   "id": "9415af7d-d323-4bfb-a24c-3be5a86d5670",
   "metadata": {},
   "source": [
    "Also refer to Data Book to understand stimuli and behaviors (active behavior and passive viewing, licks, running, eye tracking) "
   ]
  },
  {
   "cell_type": "markdown",
   "id": "eca99556-6135-45a3-b928-fe521dc301b9",
   "metadata": {
    "tags": []
   },
   "source": [
    "<div style=\"background: #DFF0D8; border-radius: 3px; padding: 10px;\">\n",
    "\n",
    "**Exercise**: How long is a session? "
   ]
  },
  {
   "cell_type": "code",
   "execution_count": 71,
   "id": "e609c0e7-45d4-4fe9-aec9-9a09136b74db",
   "metadata": {
    "tags": []
   },
   "outputs": [
    {
     "data": {
      "text/plain": [
       "75.51214499999999"
      ]
     },
     "execution_count": 71,
     "metadata": {},
     "output_type": "execute_result"
    }
   ],
   "source": [
    "(ophys_experiment.ophys_timestamps[-1]-ophys_experiment.ophys_timestamps[0])/60"
   ]
  },
  {
   "cell_type": "markdown",
   "id": "4f36159c-b894-4546-88f4-7e2fb28a4b5b",
   "metadata": {},
   "source": [
    "<div style=\"background: #DFF0D8; border-radius: 3px; padding: 10px;\">\n",
    "\n",
    "**Exercise**: What is the sampling rate? \n"
   ]
  },
  {
   "cell_type": "code",
   "execution_count": 72,
   "id": "23b7de78-1a3d-4acb-821e-f665343bb432",
   "metadata": {
    "tags": []
   },
   "outputs": [
    {
     "data": {
      "text/plain": [
       "31.0"
      ]
     },
     "execution_count": 72,
     "metadata": {},
     "output_type": "execute_result"
    }
   ],
   "source": [
    "ophys_experiment.metadata['ophys_frame_rate']"
   ]
  },
  {
   "cell_type": "markdown",
   "id": "3354b1d8-835f-4a97-9106-da946d8c6da2",
   "metadata": {},
   "source": [
    "<div style=\"background: #DFF0D8; border-radius: 3px; padding: 10px;\">\n",
    "\n",
    "**Exercise**: Did the mice receive behavior training before recording sessions? Are the sessions longitudinal? \n",
    "    \n",
    "You might need to infer this by looking at the entire dataset, looking within the NWB files, and reading the Data Book. "
   ]
  },
  {
   "cell_type": "markdown",
   "id": "9efeec2e-bdfe-4e7f-a03e-4bd9cbab57ce",
   "metadata": {},
   "source": [
    "Refer to data book and look across sessions "
   ]
  }
 ],
 "metadata": {
  "kernelspec": {
   "display_name": "Python 3 (ipykernel)",
   "language": "python",
   "name": "python3"
  },
  "language_info": {
   "codemirror_mode": {
    "name": "ipython",
    "version": 3
   },
   "file_extension": ".py",
   "mimetype": "text/x-python",
   "name": "python",
   "nbconvert_exporter": "python",
   "pygments_lexer": "ipython3",
   "version": "3.9.12"
  }
 },
 "nbformat": 4,
 "nbformat_minor": 5
}
