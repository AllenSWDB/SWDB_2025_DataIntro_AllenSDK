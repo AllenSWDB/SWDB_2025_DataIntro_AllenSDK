{
 "cells": [
  {
   "cell_type": "code",
   "execution_count": 24,
   "id": "95c1a3c8-4900-4a5f-9c6d-6f748da92f1b",
   "metadata": {
    "tags": []
   },
   "outputs": [],
   "source": [
    "# general imports \n",
    "import allensdk\n",
    "import numpy as np\n",
    "import pandas as pd\n",
    "import matplotlib.pyplot as plt\n",
    "%matplotlib inline "
   ]
  },
  {
   "cell_type": "code",
   "execution_count": 16,
   "id": "8a38aa5e-f171-4c30-bc1c-3606aa0bb97a",
   "metadata": {
    "tags": []
   },
   "outputs": [
    {
     "name": "stdout",
     "output_type": "stream",
     "text": [
      "data directory set to /data/\n"
     ]
    }
   ],
   "source": [
    "# set data path\n",
    "import sys\n",
    "import platform\n",
    "from os.path import join as pjoin\n",
    "\n",
    "platstring = platform.platform()\n",
    "system = platform.system()\n",
    "if system == \"Darwin\":\n",
    "    # macOS\n",
    "    data_dir = \"/Volumes/Brain2025/\"\n",
    "elif system == \"Windows\":\n",
    "    # Windows (replace with the drive letter of USB drive)\n",
    "    data_dir = \"E:/\"\n",
    "elif \"amzn\" in platstring:\n",
    "    # then on CodeOcean\n",
    "    data_dir = \"/data/\"\n",
    "else:\n",
    "    # then your own linux platform\n",
    "    # EDIT location where you mounted hard drive\n",
    "    data_dir = \"/media/$USERNAME/Brain2025/\"\n",
    "    \n",
    "print('data directory set to', data_dir)"
   ]
  },
  {
   "cell_type": "code",
   "execution_count": 17,
   "id": "65c41f87-c295-4198-bb9c-6568a8c18b2e",
   "metadata": {
    "tags": []
   },
   "outputs": [],
   "source": [
    "from allensdk.core.brain_observatory_cache import BrainObservatoryCache\n",
    "manifest_file = '../../../data/allen-brain-observatory/visual-coding-2p/manifest.json'\n",
    "boc = BrainObservatoryCache(manifest_file=manifest_file)"
   ]
  },
  {
   "cell_type": "markdown",
   "id": "eb67262a-7ef7-4d0a-afa5-2879020afd6d",
   "metadata": {},
   "source": [
    "<div style=\"background: #DFF0D8; border-radius: 3px; padding: 10px;\">\n",
    "\n",
    "**Exercise:** What modality was used?\n",
    "</div>"
   ]
  },
  {
   "cell_type": "markdown",
   "id": "e9778fe9-b024-454b-b87a-751a73860b4c",
   "metadata": {
    "tags": []
   },
   "source": [
    "(infer from dataset / data book) \n",
    "optical physiology, running, eye tracking "
   ]
  },
  {
   "cell_type": "markdown",
   "id": "d6ac379e-02bc-4a76-89d1-8f911b30b605",
   "metadata": {
    "tags": []
   },
   "source": [
    "<div style=\"background: #DFF0D8; border-radius: 3px; padding: 10px;\">\n",
    "\n",
    "**Exercise:** How many mice were used in this dataset?\n",
    "</div>"
   ]
  },
  {
   "cell_type": "code",
   "execution_count": 21,
   "id": "d375aef0-b812-473c-976e-0d29c4afb0f3",
   "metadata": {
    "tags": []
   },
   "outputs": [
    {
     "data": {
      "text/plain": [
       "['VISal', 'VISam', 'VISl', 'VISp', 'VISpm', 'VISrl']"
      ]
     },
     "execution_count": 21,
     "metadata": {},
     "output_type": "execute_result"
    }
   ],
   "source": [
    "# Visual Coding organized by targeted structure so need to access experiments by targeted structure b\n",
    "\n",
    "targeted_structures = boc.get_all_targeted_structures()\n",
    "targeted_structures"
   ]
  },
  {
   "cell_type": "code",
   "execution_count": 29,
   "id": "2e9101af-6480-443c-a8bd-e4a06f92c72c",
   "metadata": {
    "tags": []
   },
   "outputs": [
    {
     "name": "stdout",
     "output_type": "stream",
     "text": [
      "1014\n"
     ]
    }
   ],
   "source": [
    "visal_ecs = boc.get_experiment_containers(targeted_structures=['VISal'])\n",
    "visal_exp = pd.DataFrame(visp_ecs)\n",
    "\n",
    "visam_ecs = boc.get_experiment_containers(targeted_structures=['VISam'])\n",
    "visam_exp = pd.DataFrame(visp_ecs)\n",
    "\n",
    "visl_ecs = boc.get_experiment_containers(targeted_structures=['VISl'])\n",
    "visl_exp = pd.DataFrame(visp_ecs)\n",
    "\n",
    "visp_ecs = boc.get_experiment_containers(targeted_structures=['VISp'])\n",
    "visp_exp = pd.DataFrame(visp_ecs)\n",
    "\n",
    "vispm_ecs = boc.get_experiment_containers(targeted_structures=['VISpm'])\n",
    "vispm_exp = pd.DataFrame(vispm_ecs)\n",
    "\n",
    "visrl_ecs = boc.get_experiment_containers(targeted_structures=['VISrl'])\n",
    "visrl_exp = pd.DataFrame(visp_ecs)\n",
    "\n",
    "\n",
    "\n",
    "print(len(visal_exp.donor_name.unique()) + \n",
    "      len(visam_exp.donor_name.unique()) + \n",
    "      len(visl_exp.donor_name.unique()) + \n",
    "      len(visp_exp.donor_name.unique()) + \n",
    "      len(vispm_exp.donor_name.unique()) + \n",
    "      len(visrl_exp.donor_name.unique())) "
   ]
  },
  {
   "cell_type": "markdown",
   "id": "0c7017cb-d673-49bb-93c2-fc8f5204ff14",
   "metadata": {},
   "source": [
    "<div style=\"background: #DFF0D8; border-radius: 3px; padding: 10px;\">\n",
    "\n",
    "**Exercise:** How many sessions? How many sessions per mouse? \n",
    "</div>"
   ]
  },
  {
   "cell_type": "code",
   "execution_count": 31,
   "id": "30edada2-1602-4d7c-be8a-732751590204",
   "metadata": {
    "tags": []
   },
   "outputs": [
    {
     "data": {
      "text/plain": [
       "3501"
      ]
     },
     "execution_count": 31,
     "metadata": {},
     "output_type": "execute_result"
    }
   ],
   "source": [
    "# Experiment containers contain 3 imaging sessions \n",
    "\n",
    "(len(visal_exp) + len(visam_exp) + len(visl_exp) + len(visp_exp) + len(vispm_exp) + len(visrl_exp)) * 3 "
   ]
  },
  {
   "cell_type": "code",
   "execution_count": 33,
   "id": "21f3a02f-db09-421a-8d9b-7d3f78de1375",
   "metadata": {
    "tags": []
   },
   "outputs": [],
   "source": [
    "# Dividing number of sessions by the number of mice, deduce about 3 sessions/mouse "
   ]
  },
  {
   "cell_type": "markdown",
   "id": "1558d376-6b8f-49e5-ae9e-dc4e8f897eef",
   "metadata": {},
   "source": [
    "<div style=\"background: #DFF0D8; border-radius: 3px; padding: 10px;\">\n",
    "\n",
    "**Exercise:** What transgenic lines were used in this dataset? \n",
    "    \n",
    "What cell types do these transgenic lines target? Refer to the [Data Book](https://allenswdb.github.io/background/transgenic-tools.html) for this. \n",
    "</div>"
   ]
  },
  {
   "cell_type": "code",
   "execution_count": 34,
   "id": "091c81e0-2298-4ef4-977a-e9e3bd78fb5e",
   "metadata": {
    "tags": []
   },
   "outputs": [
    {
     "data": {
      "text/plain": [
       "['Ai148(TIT2L-GC6f-ICL-tTA2)',\n",
       " 'Ai162(TIT2L-GC6s-ICL-tTA2)',\n",
       " 'Ai93(TITL-GCaMP6f)',\n",
       " 'Ai93(TITL-GCaMP6f)-hyg',\n",
       " 'Ai94(TITL-GCaMP6s)']"
      ]
     },
     "execution_count": 34,
     "metadata": {},
     "output_type": "execute_result"
    }
   ],
   "source": [
    "boc.get_all_reporter_lines()"
   ]
  },
  {
   "cell_type": "code",
   "execution_count": 35,
   "id": "0197fe3b-3164-473b-87ee-b5cbe42fc6ce",
   "metadata": {
    "tags": []
   },
   "outputs": [
    {
     "data": {
      "text/plain": [
       "['Cux2-CreERT2',\n",
       " 'Emx1-IRES-Cre',\n",
       " 'Fezf2-CreER',\n",
       " 'Nr5a1-Cre',\n",
       " 'Ntsr1-Cre_GN220',\n",
       " 'Pvalb-IRES-Cre',\n",
       " 'Rbp4-Cre_KL100',\n",
       " 'Rorb-IRES2-Cre',\n",
       " 'Scnn1a-Tg3-Cre',\n",
       " 'Slc17a7-IRES2-Cre',\n",
       " 'Sst-IRES-Cre',\n",
       " 'Tlx3-Cre_PL56',\n",
       " 'Vip-IRES-Cre']"
      ]
     },
     "execution_count": 35,
     "metadata": {},
     "output_type": "execute_result"
    }
   ],
   "source": [
    "boc.get_all_cre_lines()"
   ]
  },
  {
   "cell_type": "markdown",
   "id": "66be6912-24a7-416c-b3cd-2cb34b4bd7a1",
   "metadata": {
    "tags": []
   },
   "source": [
    "<div style=\"background: #DFF0D8; border-radius: 3px; padding: 10px;\">\n",
    "\n",
    "**Exercise:** What structures were targeted? If not in metadata, might need to infer from Data Book or NWB file itself. "
   ]
  },
  {
   "cell_type": "code",
   "execution_count": 37,
   "id": "d76cb2e4-ef24-4dda-adc5-2bad589fafd2",
   "metadata": {
    "tags": []
   },
   "outputs": [
    {
     "data": {
      "text/plain": [
       "['VISal', 'VISam', 'VISl', 'VISp', 'VISpm', 'VISrl']"
      ]
     },
     "execution_count": 37,
     "metadata": {},
     "output_type": "execute_result"
    }
   ],
   "source": [
    "# Answered above \n",
    "targeted_structures = boc.get_all_targeted_structures()\n",
    "targeted_structures"
   ]
  },
  {
   "cell_type": "code",
   "execution_count": null,
   "id": "5ddfa5e5-0034-438b-b9d9-65bb768ce1c6",
   "metadata": {},
   "outputs": [],
   "source": [
    "# From data book also learn that layer 2/3, 4, 5, 6 targeted "
   ]
  },
  {
   "cell_type": "markdown",
   "id": "517ec34d-77fe-4453-a666-ce0c9177417f",
   "metadata": {},
   "source": [
    "<div style=\"background: #DFF0D8; border-radius: 3px; padding: 10px;\">\n",
    "\n",
    "**Exercise**: What units/neurons are available? How many neurons were recorded in this session? Has the data been pre-filtered based on quality control metrics? \n",
    "    "
   ]
  },
  {
   "cell_type": "code",
   "execution_count": 38,
   "id": "6124788f-b4ba-4575-82a5-7e5fef8685b1",
   "metadata": {
    "tags": []
   },
   "outputs": [
    {
     "name": "stderr",
     "output_type": "stream",
     "text": [
      "2025-08-21 15:43:20,716 allensdk.api.api.retrieve_file_over_http INFO     Downloading URL: http://api.brain-map.org/api/v2/well_known_file_download/514429113\n"
     ]
    }
   ],
   "source": [
    "# Get data from a select session in an experiment container \n",
    "experiment_container_id = 511510736\n",
    "session_id = boc.get_ophys_experiments(experiment_container_ids=[experiment_container_id], stimuli=['natural_scenes'])[0]['id']\n",
    "\n",
    "data_set = boc.get_ophys_experiment_data(ophys_experiment_id=session_id)"
   ]
  },
  {
   "cell_type": "code",
   "execution_count": 55,
   "id": "900175fc-03ef-40d4-89ee-2127ed2a36e5",
   "metadata": {
    "tags": []
   },
   "outputs": [],
   "source": [
    "# help(data_set)"
   ]
  },
  {
   "cell_type": "code",
   "execution_count": 54,
   "id": "3f3d24ce-fc3e-4319-9a49-0ec7ee346749",
   "metadata": {
    "tags": []
   },
   "outputs": [
    {
     "data": {
      "text/plain": [
       "(174, 113888)"
      ]
     },
     "execution_count": 54,
     "metadata": {},
     "output_type": "execute_result"
    }
   ],
   "source": [
    "ts, dff = data_set.get_dff_traces() \n",
    "np.shape(dff)\n",
    "\n",
    "# 174 neurons in a session "
   ]
  },
  {
   "cell_type": "code",
   "execution_count": 70,
   "id": "cb74f91b-7ab1-4d9b-9067-bfdf0b1f643a",
   "metadata": {
    "tags": []
   },
   "outputs": [
    {
     "data": {
      "text/html": [
       "<div>\n",
       "<style scoped>\n",
       "    .dataframe tbody tr th:only-of-type {\n",
       "        vertical-align: middle;\n",
       "    }\n",
       "\n",
       "    .dataframe tbody tr th {\n",
       "        vertical-align: top;\n",
       "    }\n",
       "\n",
       "    .dataframe thead th {\n",
       "        text-align: right;\n",
       "    }\n",
       "</style>\n",
       "<table border=\"1\" class=\"dataframe\">\n",
       "  <thead>\n",
       "    <tr style=\"text-align: right;\">\n",
       "      <th></th>\n",
       "      <th>id</th>\n",
       "      <th>imaging_depth</th>\n",
       "      <th>targeted_structure</th>\n",
       "      <th>cre_line</th>\n",
       "      <th>reporter_line</th>\n",
       "      <th>donor_name</th>\n",
       "      <th>specimen_name</th>\n",
       "      <th>tags</th>\n",
       "      <th>failed</th>\n",
       "    </tr>\n",
       "  </thead>\n",
       "  <tbody>\n",
       "    <tr>\n",
       "      <th>0</th>\n",
       "      <td>511510736</td>\n",
       "      <td>175</td>\n",
       "      <td>VISp</td>\n",
       "      <td>Cux2-CreERT2</td>\n",
       "      <td>Ai93(TITL-GCaMP6f)</td>\n",
       "      <td>222426</td>\n",
       "      <td>Cux2-CreERT2;Camk2a-tTA;Ai93-222426</td>\n",
       "      <td>[]</td>\n",
       "      <td>False</td>\n",
       "    </tr>\n",
       "    <tr>\n",
       "      <th>1</th>\n",
       "      <td>511510855</td>\n",
       "      <td>175</td>\n",
       "      <td>VISp</td>\n",
       "      <td>Cux2-CreERT2</td>\n",
       "      <td>Ai93(TITL-GCaMP6f)</td>\n",
       "      <td>229106</td>\n",
       "      <td>Cux2-CreERT2;Camk2a-tTA;Ai93-229106</td>\n",
       "      <td>[]</td>\n",
       "      <td>False</td>\n",
       "    </tr>\n",
       "    <tr>\n",
       "      <th>2</th>\n",
       "      <td>511509529</td>\n",
       "      <td>175</td>\n",
       "      <td>VISp</td>\n",
       "      <td>Cux2-CreERT2</td>\n",
       "      <td>Ai93(TITL-GCaMP6f)</td>\n",
       "      <td>222420</td>\n",
       "      <td>Cux2-CreERT2;Camk2a-tTA;Ai93-222420</td>\n",
       "      <td>[]</td>\n",
       "      <td>False</td>\n",
       "    </tr>\n",
       "    <tr>\n",
       "      <th>3</th>\n",
       "      <td>511507650</td>\n",
       "      <td>175</td>\n",
       "      <td>VISp</td>\n",
       "      <td>Cux2-CreERT2</td>\n",
       "      <td>Ai93(TITL-GCaMP6f)</td>\n",
       "      <td>222424</td>\n",
       "      <td>Cux2-CreERT2;Camk2a-tTA;Ai93-222424</td>\n",
       "      <td>[]</td>\n",
       "      <td>False</td>\n",
       "    </tr>\n",
       "    <tr>\n",
       "      <th>4</th>\n",
       "      <td>702934962</td>\n",
       "      <td>275</td>\n",
       "      <td>VISp</td>\n",
       "      <td>Cux2-CreERT2</td>\n",
       "      <td>Ai93(TITL-GCaMP6f)</td>\n",
       "      <td>382421</td>\n",
       "      <td>Cux2-CreERT2;Camk2a-tTA;Ai93-382421</td>\n",
       "      <td>[]</td>\n",
       "      <td>False</td>\n",
       "    </tr>\n",
       "    <tr>\n",
       "      <th>5</th>\n",
       "      <td>645413757</td>\n",
       "      <td>275</td>\n",
       "      <td>VISp</td>\n",
       "      <td>Cux2-CreERT2</td>\n",
       "      <td>Ai93(TITL-GCaMP6f)</td>\n",
       "      <td>348262</td>\n",
       "      <td>Cux2-CreERT2;Camk2a-tTA;Ai93-348262</td>\n",
       "      <td>[]</td>\n",
       "      <td>False</td>\n",
       "    </tr>\n",
       "    <tr>\n",
       "      <th>6</th>\n",
       "      <td>659767480</td>\n",
       "      <td>275</td>\n",
       "      <td>VISp</td>\n",
       "      <td>Cux2-CreERT2</td>\n",
       "      <td>Ai93(TITL-GCaMP6f)</td>\n",
       "      <td>360565</td>\n",
       "      <td>Cux2-CreERT2;Camk2a-tTA;Ai93-360565</td>\n",
       "      <td>[]</td>\n",
       "      <td>False</td>\n",
       "    </tr>\n",
       "    <tr>\n",
       "      <th>7</th>\n",
       "      <td>511510650</td>\n",
       "      <td>175</td>\n",
       "      <td>VISp</td>\n",
       "      <td>Cux2-CreERT2</td>\n",
       "      <td>Ai93(TITL-GCaMP6f)</td>\n",
       "      <td>222425</td>\n",
       "      <td>Cux2-CreERT2;Camk2a-tTA;Ai93-222425</td>\n",
       "      <td>[]</td>\n",
       "      <td>False</td>\n",
       "    </tr>\n",
       "    <tr>\n",
       "      <th>8</th>\n",
       "      <td>712178509</td>\n",
       "      <td>275</td>\n",
       "      <td>VISp</td>\n",
       "      <td>Cux2-CreERT2</td>\n",
       "      <td>Ai93(TITL-GCaMP6f)</td>\n",
       "      <td>390323</td>\n",
       "      <td>Cux2-CreERT2;Camk2a-tTA;Ai93-390323</td>\n",
       "      <td>[]</td>\n",
       "      <td>False</td>\n",
       "    </tr>\n",
       "    <tr>\n",
       "      <th>9</th>\n",
       "      <td>511510667</td>\n",
       "      <td>275</td>\n",
       "      <td>VISp</td>\n",
       "      <td>Cux2-CreERT2</td>\n",
       "      <td>Ai93(TITL-GCaMP6f)</td>\n",
       "      <td>222420</td>\n",
       "      <td>Cux2-CreERT2;Camk2a-tTA;Ai93-222420</td>\n",
       "      <td>[]</td>\n",
       "      <td>False</td>\n",
       "    </tr>\n",
       "    <tr>\n",
       "      <th>10</th>\n",
       "      <td>524691282</td>\n",
       "      <td>275</td>\n",
       "      <td>VISp</td>\n",
       "      <td>Cux2-CreERT2</td>\n",
       "      <td>Ai93(TITL-GCaMP6f)</td>\n",
       "      <td>243293</td>\n",
       "      <td>Cux2-CreERT2;Camk2a-tTA;Ai93-243293</td>\n",
       "      <td>[]</td>\n",
       "      <td>False</td>\n",
       "    </tr>\n",
       "    <tr>\n",
       "      <th>11</th>\n",
       "      <td>701412138</td>\n",
       "      <td>175</td>\n",
       "      <td>VISp</td>\n",
       "      <td>Cux2-CreERT2</td>\n",
       "      <td>Ai93(TITL-GCaMP6f)</td>\n",
       "      <td>382421</td>\n",
       "      <td>Cux2-CreERT2;Camk2a-tTA;Ai93-382421</td>\n",
       "      <td>[]</td>\n",
       "      <td>False</td>\n",
       "    </tr>\n",
       "    <tr>\n",
       "      <th>12</th>\n",
       "      <td>511510718</td>\n",
       "      <td>175</td>\n",
       "      <td>VISp</td>\n",
       "      <td>Cux2-CreERT2</td>\n",
       "      <td>Ai93(TITL-GCaMP6f)</td>\n",
       "      <td>231584</td>\n",
       "      <td>Cux2-CreERT2;Camk2a-tTA;Ai93-231584</td>\n",
       "      <td>[]</td>\n",
       "      <td>False</td>\n",
       "    </tr>\n",
       "    <tr>\n",
       "      <th>13</th>\n",
       "      <td>511510699</td>\n",
       "      <td>275</td>\n",
       "      <td>VISp</td>\n",
       "      <td>Cux2-CreERT2</td>\n",
       "      <td>Ai93(TITL-GCaMP6f)</td>\n",
       "      <td>225037</td>\n",
       "      <td>Cux2-CreERT2;Camk2a-tTA;Ai93-225037</td>\n",
       "      <td>[]</td>\n",
       "      <td>False</td>\n",
       "    </tr>\n",
       "    <tr>\n",
       "      <th>14</th>\n",
       "      <td>511510779</td>\n",
       "      <td>275</td>\n",
       "      <td>VISp</td>\n",
       "      <td>Cux2-CreERT2</td>\n",
       "      <td>Ai93(TITL-GCaMP6f)</td>\n",
       "      <td>225036</td>\n",
       "      <td>Cux2-CreERT2;Camk2a-tTA;Ai93-225036</td>\n",
       "      <td>[]</td>\n",
       "      <td>False</td>\n",
       "    </tr>\n",
       "    <tr>\n",
       "      <th>15</th>\n",
       "      <td>511510670</td>\n",
       "      <td>175</td>\n",
       "      <td>VISp</td>\n",
       "      <td>Cux2-CreERT2</td>\n",
       "      <td>Ai93(TITL-GCaMP6f)</td>\n",
       "      <td>225037</td>\n",
       "      <td>Cux2-CreERT2;Camk2a-tTA;Ai93-225037</td>\n",
       "      <td>[]</td>\n",
       "      <td>False</td>\n",
       "    </tr>\n",
       "  </tbody>\n",
       "</table>\n",
       "</div>"
      ],
      "text/plain": [
       "           id  imaging_depth targeted_structure      cre_line  \\\n",
       "0   511510736            175               VISp  Cux2-CreERT2   \n",
       "1   511510855            175               VISp  Cux2-CreERT2   \n",
       "2   511509529            175               VISp  Cux2-CreERT2   \n",
       "3   511507650            175               VISp  Cux2-CreERT2   \n",
       "4   702934962            275               VISp  Cux2-CreERT2   \n",
       "5   645413757            275               VISp  Cux2-CreERT2   \n",
       "6   659767480            275               VISp  Cux2-CreERT2   \n",
       "7   511510650            175               VISp  Cux2-CreERT2   \n",
       "8   712178509            275               VISp  Cux2-CreERT2   \n",
       "9   511510667            275               VISp  Cux2-CreERT2   \n",
       "10  524691282            275               VISp  Cux2-CreERT2   \n",
       "11  701412138            175               VISp  Cux2-CreERT2   \n",
       "12  511510718            175               VISp  Cux2-CreERT2   \n",
       "13  511510699            275               VISp  Cux2-CreERT2   \n",
       "14  511510779            275               VISp  Cux2-CreERT2   \n",
       "15  511510670            175               VISp  Cux2-CreERT2   \n",
       "\n",
       "         reporter_line donor_name                        specimen_name tags  \\\n",
       "0   Ai93(TITL-GCaMP6f)     222426  Cux2-CreERT2;Camk2a-tTA;Ai93-222426   []   \n",
       "1   Ai93(TITL-GCaMP6f)     229106  Cux2-CreERT2;Camk2a-tTA;Ai93-229106   []   \n",
       "2   Ai93(TITL-GCaMP6f)     222420  Cux2-CreERT2;Camk2a-tTA;Ai93-222420   []   \n",
       "3   Ai93(TITL-GCaMP6f)     222424  Cux2-CreERT2;Camk2a-tTA;Ai93-222424   []   \n",
       "4   Ai93(TITL-GCaMP6f)     382421  Cux2-CreERT2;Camk2a-tTA;Ai93-382421   []   \n",
       "5   Ai93(TITL-GCaMP6f)     348262  Cux2-CreERT2;Camk2a-tTA;Ai93-348262   []   \n",
       "6   Ai93(TITL-GCaMP6f)     360565  Cux2-CreERT2;Camk2a-tTA;Ai93-360565   []   \n",
       "7   Ai93(TITL-GCaMP6f)     222425  Cux2-CreERT2;Camk2a-tTA;Ai93-222425   []   \n",
       "8   Ai93(TITL-GCaMP6f)     390323  Cux2-CreERT2;Camk2a-tTA;Ai93-390323   []   \n",
       "9   Ai93(TITL-GCaMP6f)     222420  Cux2-CreERT2;Camk2a-tTA;Ai93-222420   []   \n",
       "10  Ai93(TITL-GCaMP6f)     243293  Cux2-CreERT2;Camk2a-tTA;Ai93-243293   []   \n",
       "11  Ai93(TITL-GCaMP6f)     382421  Cux2-CreERT2;Camk2a-tTA;Ai93-382421   []   \n",
       "12  Ai93(TITL-GCaMP6f)     231584  Cux2-CreERT2;Camk2a-tTA;Ai93-231584   []   \n",
       "13  Ai93(TITL-GCaMP6f)     225037  Cux2-CreERT2;Camk2a-tTA;Ai93-225037   []   \n",
       "14  Ai93(TITL-GCaMP6f)     225036  Cux2-CreERT2;Camk2a-tTA;Ai93-225036   []   \n",
       "15  Ai93(TITL-GCaMP6f)     225037  Cux2-CreERT2;Camk2a-tTA;Ai93-225037   []   \n",
       "\n",
       "    failed  \n",
       "0    False  \n",
       "1    False  \n",
       "2    False  \n",
       "3    False  \n",
       "4    False  \n",
       "5    False  \n",
       "6    False  \n",
       "7    False  \n",
       "8    False  \n",
       "9    False  \n",
       "10   False  \n",
       "11   False  \n",
       "12   False  \n",
       "13   False  \n",
       "14   False  \n",
       "15   False  "
      ]
     },
     "execution_count": 70,
     "metadata": {},
     "output_type": "execute_result"
    }
   ],
   "source": [
    "# Look at experiment container metadata \n",
    "\n",
    "visual_area = 'VISp'\n",
    "cre_line ='Cux2-CreERT2'\n",
    "\n",
    "exps = boc.get_experiment_containers(targeted_structures=[visual_area], cre_lines=[cre_line])\n",
    "exps = pd.DataFrame(exps) \n",
    "\n"
   ]
  },
  {
   "cell_type": "code",
   "execution_count": 72,
   "id": "ed98eea1-0755-42fd-ae4e-1e7ae77110be",
   "metadata": {
    "tags": []
   },
   "outputs": [
    {
     "data": {
      "text/plain": [
       "array([False])"
      ]
     },
     "execution_count": 72,
     "metadata": {},
     "output_type": "execute_result"
    }
   ],
   "source": [
    "# Note the \"failed column\" - verify if only units that pass QC are shown \n",
    "# verify using the Data Book \n",
    "exps.failed.unique()"
   ]
  },
  {
   "cell_type": "markdown",
   "id": "ff806faa-1be3-4f4c-a0fa-6fc807ead5f3",
   "metadata": {},
   "source": [
    "<div style=\"background: #DFF0D8; border-radius: 3px; padding: 10px;\">\n",
    "\n",
    "**Exercise**: What stimuli, behaviors, and conditions were applied or recorded in this experiment? "
   ]
  },
  {
   "cell_type": "code",
   "execution_count": 57,
   "id": "badd953a-9fd5-4547-a464-a5018e82ed0e",
   "metadata": {
    "tags": []
   },
   "outputs": [
    {
     "data": {
      "text/plain": [
       "['drifting_gratings',\n",
       " 'locally_sparse_noise',\n",
       " 'locally_sparse_noise_4deg',\n",
       " 'locally_sparse_noise_8deg',\n",
       " 'natural_movie_one',\n",
       " 'natural_movie_three',\n",
       " 'natural_movie_two',\n",
       " 'natural_scenes',\n",
       " 'spontaneous',\n",
       " 'static_gratings']"
      ]
     },
     "execution_count": 57,
     "metadata": {},
     "output_type": "execute_result"
    }
   ],
   "source": [
    "boc.get_all_stimuli()"
   ]
  },
  {
   "cell_type": "markdown",
   "id": "eca99556-6135-45a3-b928-fe521dc301b9",
   "metadata": {
    "tags": []
   },
   "source": [
    "<div style=\"background: #DFF0D8; border-radius: 3px; padding: 10px;\">\n",
    "\n",
    "**Exercise**: How long is a session? "
   ]
  },
  {
   "cell_type": "code",
   "execution_count": 60,
   "id": "e609c0e7-45d4-4fe9-aec9-9a09136b74db",
   "metadata": {
    "tags": []
   },
   "outputs": [
    {
     "data": {
      "text/plain": [
       "63.10869916666666"
      ]
     },
     "execution_count": 60,
     "metadata": {},
     "output_type": "execute_result"
    }
   ],
   "source": [
    "(ts[-1] - ts[0])/60"
   ]
  },
  {
   "cell_type": "markdown",
   "id": "4f36159c-b894-4546-88f4-7e2fb28a4b5b",
   "metadata": {},
   "source": [
    "<div style=\"background: #DFF0D8; border-radius: 3px; padding: 10px;\">\n",
    "\n",
    "**Exercise**: What is the sampling rate? \n"
   ]
  },
  {
   "cell_type": "code",
   "execution_count": 74,
   "id": "23b7de78-1a3d-4acb-821e-f665343bb432",
   "metadata": {
    "tags": []
   },
   "outputs": [],
   "source": [
    "# ? \n"
   ]
  },
  {
   "cell_type": "markdown",
   "id": "3354b1d8-835f-4a97-9106-da946d8c6da2",
   "metadata": {},
   "source": [
    "<div style=\"background: #DFF0D8; border-radius: 3px; padding: 10px;\">\n",
    "\n",
    "**Exercise**: Did the mice receive behavior training before recording sessions? Are the sessions longitudinal? \n",
    "    \n",
    "You might need to infer this by looking at the entire dataset, looking within the NWB files, and reading the Data Book. "
   ]
  },
  {
   "cell_type": "markdown",
   "id": "9efeec2e-bdfe-4e7f-a03e-4bd9cbab57ce",
   "metadata": {},
   "source": [
    "Refer to data book and look across sessions "
   ]
  }
 ],
 "metadata": {
  "kernelspec": {
   "display_name": "Python 3 (ipykernel)",
   "language": "python",
   "name": "python3"
  },
  "language_info": {
   "codemirror_mode": {
    "name": "ipython",
    "version": 3
   },
   "file_extension": ".py",
   "mimetype": "text/x-python",
   "name": "python",
   "nbconvert_exporter": "python",
   "pygments_lexer": "ipython3",
   "version": "3.9.12"
  }
 },
 "nbformat": 4,
 "nbformat_minor": 5
}
