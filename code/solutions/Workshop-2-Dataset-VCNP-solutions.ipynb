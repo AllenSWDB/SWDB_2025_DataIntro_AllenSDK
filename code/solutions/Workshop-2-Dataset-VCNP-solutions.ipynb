{
 "cells": [
  {
   "cell_type": "code",
   "execution_count": 1,
   "id": "95c1a3c8-4900-4a5f-9c6d-6f748da92f1b",
   "metadata": {
    "tags": []
   },
   "outputs": [],
   "source": [
    "# general imports \n",
    "import allensdk\n",
    "import numpy as np\n",
    "import matplotlib.pyplot as plt\n",
    "import os \n",
    "%matplotlib inline "
   ]
  },
  {
   "cell_type": "code",
   "execution_count": 2,
   "id": "8a38aa5e-f171-4c30-bc1c-3606aa0bb97a",
   "metadata": {
    "tags": []
   },
   "outputs": [
    {
     "name": "stdout",
     "output_type": "stream",
     "text": [
      "data directory set to /data/\n"
     ]
    }
   ],
   "source": [
    "# set data path\n",
    "import sys\n",
    "import platform\n",
    "from os.path import join as pjoin\n",
    "\n",
    "platstring = platform.platform()\n",
    "system = platform.system()\n",
    "if system == \"Darwin\":\n",
    "    # macOS\n",
    "    data_dir = \"/Volumes/Brain2025/\"\n",
    "elif system == \"Windows\":\n",
    "    # Windows (replace with the drive letter of USB drive)\n",
    "    data_dir = \"E:/\"\n",
    "elif \"amzn\" in platstring:\n",
    "    # then on CodeOcean\n",
    "    data_dir = \"/data/\"\n",
    "else:\n",
    "    # then your own linux platform\n",
    "    # EDIT location where you mounted hard drive\n",
    "    data_dir = \"/media/$USERNAME/Brain2025/\"\n",
    "    \n",
    "print('data directory set to', data_dir)"
   ]
  },
  {
   "cell_type": "code",
   "execution_count": 3,
   "id": "65c41f87-c295-4198-bb9c-6568a8c18b2e",
   "metadata": {
    "tags": []
   },
   "outputs": [
    {
     "name": "stderr",
     "output_type": "stream",
     "text": [
      "/opt/conda/lib/python3.9/site-packages/tqdm/auto.py:22: TqdmWarning: IProgress not found. Please update jupyter and ipywidgets. See https://ipywidgets.readthedocs.io/en/stable/user_install.html\n",
      "  from .autonotebook import tqdm as notebook_tqdm\n"
     ]
    }
   ],
   "source": [
    "# import behavior project cache class to load the data\n",
    "from allensdk.brain_observatory.ecephys.ecephys_project_cache import EcephysProjectCache\n",
    "\n",
    "# Example cache directory path, it determines where downloaded data will be stored\n",
    "output_dir = '/root/capsule/data/allen-brain-observatory/visual-coding-neuropixels/ecephys-cache/'\n",
    "manifest_path = os.path.join(output_dir, \"manifest.json\")\n",
    "cache = EcephysProjectCache.from_warehouse(manifest=manifest_path)"
   ]
  },
  {
   "cell_type": "markdown",
   "id": "eb67262a-7ef7-4d0a-afa5-2879020afd6d",
   "metadata": {},
   "source": [
    "<div style=\"background: #DFF0D8; border-radius: 3px; padding: 10px;\">\n",
    "\n",
    "**Exercise:** What modality was used?\n",
    "</div>"
   ]
  },
  {
   "cell_type": "markdown",
   "id": "e9778fe9-b024-454b-b87a-751a73860b4c",
   "metadata": {
    "tags": []
   },
   "source": [
    "(infer from dataset / data book) \n",
    "extracellular electrophysiology, running, eye tracking "
   ]
  },
  {
   "cell_type": "markdown",
   "id": "d6ac379e-02bc-4a76-89d1-8f911b30b605",
   "metadata": {
    "tags": []
   },
   "source": [
    "<div style=\"background: #DFF0D8; border-radius: 3px; padding: 10px;\">\n",
    "\n",
    "**Exercise:** How many mice were used in this dataset?\n",
    "</div>"
   ]
  },
  {
   "cell_type": "code",
   "execution_count": 4,
   "id": "4317f8c3-da91-49db-86cc-24a34f6775db",
   "metadata": {
    "tags": []
   },
   "outputs": [
    {
     "data": {
      "text/html": [
       "<div>\n",
       "<style scoped>\n",
       "    .dataframe tbody tr th:only-of-type {\n",
       "        vertical-align: middle;\n",
       "    }\n",
       "\n",
       "    .dataframe tbody tr th {\n",
       "        vertical-align: top;\n",
       "    }\n",
       "\n",
       "    .dataframe thead th {\n",
       "        text-align: right;\n",
       "    }\n",
       "</style>\n",
       "<table border=\"1\" class=\"dataframe\">\n",
       "  <thead>\n",
       "    <tr style=\"text-align: right;\">\n",
       "      <th></th>\n",
       "      <th>published_at</th>\n",
       "      <th>specimen_id</th>\n",
       "      <th>session_type</th>\n",
       "      <th>age_in_days</th>\n",
       "      <th>sex</th>\n",
       "      <th>full_genotype</th>\n",
       "      <th>unit_count</th>\n",
       "      <th>channel_count</th>\n",
       "      <th>probe_count</th>\n",
       "      <th>ecephys_structure_acronyms</th>\n",
       "    </tr>\n",
       "    <tr>\n",
       "      <th>id</th>\n",
       "      <th></th>\n",
       "      <th></th>\n",
       "      <th></th>\n",
       "      <th></th>\n",
       "      <th></th>\n",
       "      <th></th>\n",
       "      <th></th>\n",
       "      <th></th>\n",
       "      <th></th>\n",
       "      <th></th>\n",
       "    </tr>\n",
       "  </thead>\n",
       "  <tbody>\n",
       "    <tr>\n",
       "      <th>715093703</th>\n",
       "      <td>2019-10-03T00:00:00Z</td>\n",
       "      <td>699733581</td>\n",
       "      <td>brain_observatory_1.1</td>\n",
       "      <td>118.0</td>\n",
       "      <td>M</td>\n",
       "      <td>Sst-IRES-Cre/wt;Ai32(RCL-ChR2(H134R)_EYFP)/wt</td>\n",
       "      <td>884</td>\n",
       "      <td>2219</td>\n",
       "      <td>6</td>\n",
       "      <td>[CA1, VISrl, nan, PO, LP, LGd, CA3, DG, VISl, ...</td>\n",
       "    </tr>\n",
       "    <tr>\n",
       "      <th>719161530</th>\n",
       "      <td>2019-10-03T00:00:00Z</td>\n",
       "      <td>703279284</td>\n",
       "      <td>brain_observatory_1.1</td>\n",
       "      <td>122.0</td>\n",
       "      <td>M</td>\n",
       "      <td>Sst-IRES-Cre/wt;Ai32(RCL-ChR2(H134R)_EYFP)/wt</td>\n",
       "      <td>755</td>\n",
       "      <td>2214</td>\n",
       "      <td>6</td>\n",
       "      <td>[TH, Eth, APN, POL, LP, DG, CA1, VISpm, nan, N...</td>\n",
       "    </tr>\n",
       "    <tr>\n",
       "      <th>721123822</th>\n",
       "      <td>2019-10-03T00:00:00Z</td>\n",
       "      <td>707296982</td>\n",
       "      <td>brain_observatory_1.1</td>\n",
       "      <td>125.0</td>\n",
       "      <td>M</td>\n",
       "      <td>Pvalb-IRES-Cre/wt;Ai32(RCL-ChR2(H134R)_EYFP)/wt</td>\n",
       "      <td>444</td>\n",
       "      <td>2229</td>\n",
       "      <td>6</td>\n",
       "      <td>[MB, SCig, PPT, NOT, DG, CA1, VISam, nan, LP, ...</td>\n",
       "    </tr>\n",
       "    <tr>\n",
       "      <th>732592105</th>\n",
       "      <td>2019-10-03T00:00:00Z</td>\n",
       "      <td>717038288</td>\n",
       "      <td>brain_observatory_1.1</td>\n",
       "      <td>100.0</td>\n",
       "      <td>M</td>\n",
       "      <td>wt/wt</td>\n",
       "      <td>824</td>\n",
       "      <td>1847</td>\n",
       "      <td>5</td>\n",
       "      <td>[grey, VISpm, nan, VISp, VISl, VISal, VISrl]</td>\n",
       "    </tr>\n",
       "    <tr>\n",
       "      <th>737581020</th>\n",
       "      <td>2019-10-03T00:00:00Z</td>\n",
       "      <td>718643567</td>\n",
       "      <td>brain_observatory_1.1</td>\n",
       "      <td>108.0</td>\n",
       "      <td>M</td>\n",
       "      <td>wt/wt</td>\n",
       "      <td>568</td>\n",
       "      <td>2218</td>\n",
       "      <td>6</td>\n",
       "      <td>[grey, VISmma, nan, VISpm, VISp, VISl, VISrl]</td>\n",
       "    </tr>\n",
       "  </tbody>\n",
       "</table>\n",
       "</div>"
      ],
      "text/plain": [
       "                   published_at  specimen_id           session_type  \\\n",
       "id                                                                    \n",
       "715093703  2019-10-03T00:00:00Z    699733581  brain_observatory_1.1   \n",
       "719161530  2019-10-03T00:00:00Z    703279284  brain_observatory_1.1   \n",
       "721123822  2019-10-03T00:00:00Z    707296982  brain_observatory_1.1   \n",
       "732592105  2019-10-03T00:00:00Z    717038288  brain_observatory_1.1   \n",
       "737581020  2019-10-03T00:00:00Z    718643567  brain_observatory_1.1   \n",
       "\n",
       "           age_in_days sex                                    full_genotype  \\\n",
       "id                                                                            \n",
       "715093703        118.0   M    Sst-IRES-Cre/wt;Ai32(RCL-ChR2(H134R)_EYFP)/wt   \n",
       "719161530        122.0   M    Sst-IRES-Cre/wt;Ai32(RCL-ChR2(H134R)_EYFP)/wt   \n",
       "721123822        125.0   M  Pvalb-IRES-Cre/wt;Ai32(RCL-ChR2(H134R)_EYFP)/wt   \n",
       "732592105        100.0   M                                            wt/wt   \n",
       "737581020        108.0   M                                            wt/wt   \n",
       "\n",
       "           unit_count  channel_count  probe_count  \\\n",
       "id                                                  \n",
       "715093703         884           2219            6   \n",
       "719161530         755           2214            6   \n",
       "721123822         444           2229            6   \n",
       "732592105         824           1847            5   \n",
       "737581020         568           2218            6   \n",
       "\n",
       "                                  ecephys_structure_acronyms  \n",
       "id                                                            \n",
       "715093703  [CA1, VISrl, nan, PO, LP, LGd, CA3, DG, VISl, ...  \n",
       "719161530  [TH, Eth, APN, POL, LP, DG, CA1, VISpm, nan, N...  \n",
       "721123822  [MB, SCig, PPT, NOT, DG, CA1, VISam, nan, LP, ...  \n",
       "732592105       [grey, VISpm, nan, VISp, VISl, VISal, VISrl]  \n",
       "737581020      [grey, VISmma, nan, VISpm, VISp, VISl, VISrl]  "
      ]
     },
     "execution_count": 4,
     "metadata": {},
     "output_type": "execute_result"
    }
   ],
   "source": [
    "sessions = cache.get_session_table()\n",
    "sessions.head()"
   ]
  },
  {
   "cell_type": "code",
   "execution_count": 5,
   "id": "a5c94649-a3cb-42ab-afc3-528aa06c3394",
   "metadata": {
    "tags": []
   },
   "outputs": [
    {
     "data": {
      "text/plain": [
       "Index(['published_at', 'specimen_id', 'session_type', 'age_in_days', 'sex',\n",
       "       'full_genotype', 'unit_count', 'channel_count', 'probe_count',\n",
       "       'ecephys_structure_acronyms'],\n",
       "      dtype='object')"
      ]
     },
     "execution_count": 5,
     "metadata": {},
     "output_type": "execute_result"
    }
   ],
   "source": [
    "sessions.columns"
   ]
  },
  {
   "cell_type": "code",
   "execution_count": 6,
   "id": "4c3fa75d-d457-498f-830b-6c7ef7d5c536",
   "metadata": {
    "tags": []
   },
   "outputs": [
    {
     "data": {
      "text/plain": [
       "58"
      ]
     },
     "execution_count": 6,
     "metadata": {},
     "output_type": "execute_result"
    }
   ],
   "source": [
    "len(sessions.specimen_id.unique())"
   ]
  },
  {
   "cell_type": "markdown",
   "id": "0c7017cb-d673-49bb-93c2-fc8f5204ff14",
   "metadata": {},
   "source": [
    "<div style=\"background: #DFF0D8; border-radius: 3px; padding: 10px;\">\n",
    "\n",
    "**Exercise:** How many sessions? How many sessions per mouse? \n",
    "</div>"
   ]
  },
  {
   "cell_type": "code",
   "execution_count": 7,
   "id": "c275ed8a-7dc0-4b31-b213-616c5b1c4f14",
   "metadata": {
    "tags": []
   },
   "outputs": [
    {
     "data": {
      "text/plain": [
       "58"
      ]
     },
     "execution_count": 7,
     "metadata": {},
     "output_type": "execute_result"
    }
   ],
   "source": [
    "len(sessions)"
   ]
  },
  {
   "cell_type": "code",
   "execution_count": 8,
   "id": "e7310ea2-c732-4bd1-9cdd-eaa89a34825a",
   "metadata": {
    "tags": []
   },
   "outputs": [
    {
     "data": {
      "text/plain": [
       "699733581    1\n",
       "774672366    1\n",
       "756578435    1\n",
       "757329624    1\n",
       "759711152    1\n",
       "760938797    1\n",
       "759674770    1\n",
       "760960653    1\n",
       "760946813    1\n",
       "763884103    1\n",
       "763236014    1\n",
       "763808604    1\n",
       "769360779    1\n",
       "769319624    1\n",
       "776061251    1\n",
       "703279284    1\n",
       "775876828    1\n",
       "772616823    1\n",
       "791857608    1\n",
       "800249587    1\n",
       "795770036    1\n",
       "800250057    1\n",
       "811322619    1\n",
       "803390291    1\n",
       "813701562    1\n",
       "817060751    1\n",
       "821469666    1\n",
       "820866121    1\n",
       "754488979    1\n",
       "754477358    1\n",
       "753795610    1\n",
       "744912849    1\n",
       "707296982    1\n",
       "717038288    1\n",
       "718643567    1\n",
       "716813543    1\n",
       "723627604    1\n",
       "722882755    1\n",
       "719817805    1\n",
       "726170935    1\n",
       "726141251    1\n",
       "726162197    1\n",
       "732548380    1\n",
       "719828690    1\n",
       "726298253    1\n",
       "730760270    1\n",
       "734865738    1\n",
       "733457989    1\n",
       "730756780    1\n",
       "735109609    1\n",
       "740268986    1\n",
       "739783171    1\n",
       "738651054    1\n",
       "742714475    1\n",
       "745276236    1\n",
       "744915204    1\n",
       "742602892    1\n",
       "827809884    1\n",
       "Name: specimen_id, dtype: int64"
      ]
     },
     "execution_count": 8,
     "metadata": {},
     "output_type": "execute_result"
    }
   ],
   "source": [
    "sessions['specimen_id'].value_counts()"
   ]
  },
  {
   "cell_type": "markdown",
   "id": "1558d376-6b8f-49e5-ae9e-dc4e8f897eef",
   "metadata": {},
   "source": [
    "<div style=\"background: #DFF0D8; border-radius: 3px; padding: 10px;\">\n",
    "\n",
    "**Exercise:** What transgenic lines were used in this dataset? \n",
    "    \n",
    "What cell types do these transgenic lines target? Refer to the [Data Book](https://allenswdb.github.io/background/transgenic-tools.html) for this. \n",
    "</div>"
   ]
  },
  {
   "cell_type": "code",
   "execution_count": 9,
   "id": "091c81e0-2298-4ef4-977a-e9e3bd78fb5e",
   "metadata": {
    "tags": []
   },
   "outputs": [
    {
     "data": {
      "text/plain": [
       "array(['Sst-IRES-Cre/wt;Ai32(RCL-ChR2(H134R)_EYFP)/wt',\n",
       "       'Pvalb-IRES-Cre/wt;Ai32(RCL-ChR2(H134R)_EYFP)/wt', 'wt/wt',\n",
       "       'Vip-IRES-Cre/wt;Ai32(RCL-ChR2(H134R)_EYFP)/wt'], dtype=object)"
      ]
     },
     "execution_count": 9,
     "metadata": {},
     "output_type": "execute_result"
    }
   ],
   "source": [
    "sessions.full_genotype.unique()"
   ]
  },
  {
   "cell_type": "markdown",
   "id": "66be6912-24a7-416c-b3cd-2cb34b4bd7a1",
   "metadata": {
    "tags": []
   },
   "source": [
    "<div style=\"background: #DFF0D8; border-radius: 3px; padding: 10px;\">\n",
    "\n",
    "**Exercise:** What structures were targeted? If not in metadata, might need to infer from Data Book or NWB file itself. "
   ]
  },
  {
   "cell_type": "code",
   "execution_count": 10,
   "id": "d76cb2e4-ef24-4dda-adc5-2bad589fafd2",
   "metadata": {
    "tags": []
   },
   "outputs": [
    {
     "data": {
      "text/plain": [
       "id\n",
       "715093703    [CA1, VISrl, nan, PO, LP, LGd, CA3, DG, VISl, ...\n",
       "719161530    [TH, Eth, APN, POL, LP, DG, CA1, VISpm, nan, N...\n",
       "721123822    [MB, SCig, PPT, NOT, DG, CA1, VISam, nan, LP, ...\n",
       "732592105         [grey, VISpm, nan, VISp, VISl, VISal, VISrl]\n",
       "737581020        [grey, VISmma, nan, VISpm, VISp, VISl, VISrl]\n",
       "739448407           [grey, VISam, nan, VIS, VISp, VISl, VISrl]\n",
       "742951821    [VISal, nan, grey, VISl, VISrl, VISp, VISpm, VIS]\n",
       "743475441    [LP, LGd, HPF, DG, CA3, CA1, VISrl, nan, PP, P...\n",
       "744228101    [Eth, TH, LP, POL, APN, DG, CA1, VIS, nan, CA3...\n",
       "746083955    [VPM, TH, LGd, CA3, CA2, CA1, VISal, nan, grey...\n",
       "750332458    [grey, VISrl, nan, VISal, IntG, IGL, LGd, CA3,...\n",
       "750749662    [LP, DG, CA1, VISp, nan, LGd, CA3, VISrl, VPM,...\n",
       "751348571    [grey, LGv, CA3, DG, CA1, VISl, nan, APN, POL,...\n",
       "754312389    [APN, POL, LP, DG, CA1, VISam, nan, LGd, HPF, ...\n",
       "754829445    [PoT, LP, LGd, CA3, DG, CA1, VISp, nan, VPM, C...\n",
       "755434585    [grey, VISrl, nan, MGv, MGd, TH, LGd, CA3, DG,...\n",
       "756029989    [TH, DG, CA3, CA1, VISl, nan, PO, Eth, LP, VIS...\n",
       "757216464    [LP, DG, CA3, CA1, VISrl, nan, PO, LGd, HPF, V...\n",
       "757970808    [grey, DG, CA3, CA1, VISli, nan, MGd, SGN, LP,...\n",
       "758798717    [MGv, MGd, TH, DG, CA1, VISal, nan, SGN, LP, S...\n",
       "759883607    [MB, SCig, PPT, NOT, SUB, ProS, CA1, VISam, na...\n",
       "760345702    [MB, TH, PP, PIL, DG, CA3, CA1, VISal, nan, gr...\n",
       "760693773        [grey, VISrl, nan, VISal, VISp, VISpm, VISam]\n",
       "761418226    [grey, CA3, CA2, CA1, VISal, nan, LGd, HPF, DG...\n",
       "762120172           [grey, VISal, nan, VISl, VISp, VIS, VISam]\n",
       "762602078    [MB, APN, NOT, DG, CA1, VISam, nan, VISrl, LGv...\n",
       "763673393    [CA3, CA2, CA1, VISl, nan, APN, MB, DG, VISam,...\n",
       "766640955    [MB, APN, NOT, DG, CA1, VISam, nan, PF, TH, LP...\n",
       "767871931    [MRN, APN, MB, DG, CA1, VISrl, nan, VISam, PO,...\n",
       "768515987    [MB, APN, NOT, DG, CA1, VISam, nan, Eth, LP, P...\n",
       "771160300    [SCig, PPT, NOT, SUB, ProS, CA1, VISam, nan, A...\n",
       "771990200    [APN, MB, DG, CA1, VISam, nan, PO, LP, VISpm, ...\n",
       "773418906    [PPT, NOT, SUB, ProS, CA1, VISam, nan, APN, DG...\n",
       "774875821    [APN, LP, DG, CA1, VISrl, nan, MGv, MGd, CA3, ...\n",
       "778240327    [APN, POL, LP, DG, CA1, VISrl, nan, ZI, IntG, ...\n",
       "778998620    [APN, POL, LP, DG, CA3, CA1, VISrl, nan, ZI, M...\n",
       "779839471    [APN, LP, MB, DG, CA1, VISrl, nan, TH, LGd, CA...\n",
       "781842082    [APN, LP, DG, CA1, VISrl, nan, MGm, TH, MGv, L...\n",
       "786091066    [APN, MB, DG, CA1, VISrl, nan, MGd, CA3, VISal...\n",
       "787025148    [SCiw, SCig, PPT, NOT, DG, SUB, ProS, CA1, VIS...\n",
       "789848216    [grey, CA3, CA2, CA1, VISal, nan, LP, LD, VISr...\n",
       "791319847    [APN, DG, CA1, VISam, nan, LP, TH, VISpm, POL,...\n",
       "793224716    [APN, NOT, MB, DG, CA1, VIS, nan, Eth, LP, SGN...\n",
       "794812542    [MB, APN, DG, CA1, VISrl, nan, PIL, MGm, MGv, ...\n",
       "797828357    [PPT, MB, APN, NOT, HPF, ProS, CA1, VISam, nan...\n",
       "798911424    [APN, TH, Eth, LP, DG, HPF, CA3, CA1, VISrl, n...\n",
       "799864342    [APN, POL, LP, DG, CA1, VISrl, nan, LGd, CA3, ...\n",
       "816200189    [MRN, APN, MB, DG, CA1, VISam, nan, LP, VISpm,...\n",
       "819186360    [SCiw, SCig, NOT, MB, SCop, HPF, SUB, VISam, n...\n",
       "819701982    [MB, SCiw, SCig, PPT, NOT, SUB, ProS, CA1, VIS...\n",
       "821695405    [LGv, TH, DG, CA3, CA1, ProS, VISl, nan, grey,...\n",
       "829720705    [SCig, SCop, SCsg, SCzo, POST, VISp, nan, CA1,...\n",
       "831882777    [grey, DG, CA1, VISrl, nan, VISal, VISl, MB, S...\n",
       "835479236    [LP, DG, CA1, VISmmp, nan, SCiw, SCig, SCop, S...\n",
       "839068429    [APN, LP, MB, DG, CA1, VISam, nan, VISpm, ProS...\n",
       "839557629    [APN, NOT, MB, DG, CA1, VISam, nan, VISpm, LGd...\n",
       "840012044    [APN, DG, CA1, VISam, nan, LP, VISpm, VISp, LG...\n",
       "847657808    [APN, NOT, DG, HPF, ProS, CA1, VISam, nan, MB,...\n",
       "Name: ecephys_structure_acronyms, dtype: object"
      ]
     },
     "execution_count": 10,
     "metadata": {},
     "output_type": "execute_result"
    }
   ],
   "source": [
    "sessions.ecephys_structure_acronyms"
   ]
  },
  {
   "cell_type": "markdown",
   "id": "517ec34d-77fe-4453-a666-ce0c9177417f",
   "metadata": {},
   "source": [
    "<div style=\"background: #DFF0D8; border-radius: 3px; padding: 10px;\">\n",
    "\n",
    "**Exercise**: What units/neurons are available? How many neurons were recorded in this session? Has the data been pre-filtered based on quality control metrics? \n",
    "    "
   ]
  },
  {
   "cell_type": "code",
   "execution_count": 11,
   "id": "31cca43a-f2b2-4d16-8df3-d23ec1b9d71a",
   "metadata": {
    "tags": []
   },
   "outputs": [
    {
     "name": "stderr",
     "output_type": "stream",
     "text": [
      "/opt/conda/lib/python3.9/site-packages/hdmf/spec/namespace.py:583: UserWarning: Ignoring the following cached namespace(s) because another version is already loaded:\n",
      "core - cached version: 2.2.2, loaded version: 2.7.0\n",
      "The loaded extension(s) may not be compatible with the cached extension(s) in the file. Please check the extension documentation and ignore this warning if these versions are compatible.\n",
      "  self.warn_for_ignored_namespaces(ignored_namespaces)\n"
     ]
    }
   ],
   "source": [
    "# Get sample session data \n",
    "session_id = 791319847\n",
    "session = cache.get_session_data(session_id)"
   ]
  },
  {
   "cell_type": "code",
   "execution_count": null,
   "id": "5fc1c53d-2c2b-478e-9dec-7770a495409a",
   "metadata": {
    "tags": []
   },
   "outputs": [],
   "source": [
    "units = session.units"
   ]
  },
  {
   "cell_type": "code",
   "execution_count": null,
   "id": "9d9cfe0f-71a3-48a2-ba97-35b90622f66b",
   "metadata": {},
   "outputs": [],
   "source": []
  },
  {
   "cell_type": "code",
   "execution_count": null,
   "id": "cd348815-7b85-448f-8a4f-3c9cd5b8995b",
   "metadata": {},
   "outputs": [],
   "source": []
  },
  {
   "cell_type": "code",
   "execution_count": null,
   "id": "a3c849e8-f847-4706-8708-e967bc8d8cb4",
   "metadata": {},
   "outputs": [],
   "source": []
  },
  {
   "cell_type": "markdown",
   "id": "ff806faa-1be3-4f4c-a0fa-6fc807ead5f3",
   "metadata": {},
   "source": [
    "<div style=\"background: #DFF0D8; border-radius: 3px; padding: 10px;\">\n",
    "\n",
    "**Exercise**: What stimuli, behaviors, and conditions were applied or recorded in this experiment? "
   ]
  },
  {
   "cell_type": "markdown",
   "id": "9415af7d-d323-4bfb-a24c-3be5a86d5670",
   "metadata": {},
   "source": [
    "Also refer to Data Book to understand stimuli and behaviors (active behavior and passive viewing, licks, running, eye tracking) "
   ]
  },
  {
   "cell_type": "markdown",
   "id": "eca99556-6135-45a3-b928-fe521dc301b9",
   "metadata": {
    "tags": []
   },
   "source": [
    "<div style=\"background: #DFF0D8; border-radius: 3px; padding: 10px;\">\n",
    "\n",
    "**Exercise**: How long is a session? "
   ]
  },
  {
   "cell_type": "code",
   "execution_count": null,
   "id": "637b210e-8bd3-467a-9f4a-437fc6d533d5",
   "metadata": {},
   "outputs": [],
   "source": []
  },
  {
   "cell_type": "markdown",
   "id": "4f36159c-b894-4546-88f4-7e2fb28a4b5b",
   "metadata": {},
   "source": [
    "<div style=\"background: #DFF0D8; border-radius: 3px; padding: 10px;\">\n",
    "\n",
    "**Exercise**: What is the sampling rate? \n"
   ]
  },
  {
   "cell_type": "code",
   "execution_count": null,
   "id": "46f678f3-8aab-46bb-9876-5e903e75fae4",
   "metadata": {},
   "outputs": [],
   "source": []
  },
  {
   "cell_type": "markdown",
   "id": "3354b1d8-835f-4a97-9106-da946d8c6da2",
   "metadata": {},
   "source": [
    "<div style=\"background: #DFF0D8; border-radius: 3px; padding: 10px;\">\n",
    "\n",
    "**Exercise**: Did the mice receive behavior training before recording sessions? Are the sessions longitudinal? \n",
    "    \n",
    "You might need to infer this by looking at the entire dataset, looking within the NWB files, and reading the Data Book. "
   ]
  },
  {
   "cell_type": "markdown",
   "id": "9efeec2e-bdfe-4e7f-a03e-4bd9cbab57ce",
   "metadata": {},
   "source": [
    "Refer to data book and look across sessions "
   ]
  }
 ],
 "metadata": {
  "kernelspec": {
   "display_name": "Python 3 (ipykernel)",
   "language": "python",
   "name": "python3"
  },
  "language_info": {
   "codemirror_mode": {
    "name": "ipython",
    "version": 3
   },
   "file_extension": ".py",
   "mimetype": "text/x-python",
   "name": "python",
   "nbconvert_exporter": "python",
   "pygments_lexer": "ipython3",
   "version": "3.9.12"
  }
 },
 "nbformat": 4,
 "nbformat_minor": 5
}
